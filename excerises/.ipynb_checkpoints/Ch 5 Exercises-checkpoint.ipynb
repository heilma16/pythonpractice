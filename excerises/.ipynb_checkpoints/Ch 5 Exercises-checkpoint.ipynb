{
 "cells": [
  {
   "cell_type": "markdown",
   "id": "a230e0da",
   "metadata": {},
   "source": [
    "# Chapter 5 Exercises"
   ]
  },
  {
   "cell_type": "markdown",
   "id": "e5a12972",
   "metadata": {},
   "source": [
    "## Problem 1"
   ]
  },
  {
   "cell_type": "markdown",
   "id": "249345e2",
   "metadata": {},
   "source": [
    "Write a function named times_ten. The function should accept an argument and display the product of its argument multiplied times 10."
   ]
  },
  {
   "cell_type": "code",
   "execution_count": 7,
   "id": "3da16a90",
   "metadata": {},
   "outputs": [
    {
     "name": "stdout",
     "output_type": "stream",
     "text": [
      "The product of 4 multiplied by 10 is: 40\n"
     ]
    }
   ],
   "source": [
    "# First start of by naming the function (times_ten)\n",
    "def times_ten(number):\n",
    "#Now we have to muliply the number by 10\n",
    "    result = number * 10\n",
    "    print('The product of', number, 'multiplied by 10 is:', result)\n",
    "times_ten(4)"
   ]
  },
  {
   "cell_type": "markdown",
   "id": "25c95db2",
   "metadata": {},
   "source": [
    "For this problem the times_ten function is defined as the word number. The number is multiplied by 10 and it is the result variable. As you change the number in the last line it will change the result."
   ]
  },
  {
   "cell_type": "markdown",
   "id": "9255c652",
   "metadata": {},
   "source": [
    "## Problem 6"
   ]
  },
  {
   "cell_type": "markdown",
   "id": "1cef6e3d",
   "metadata": {},
   "source": [
    "Write a statement that generates a random number in the range of 1 through 100 and\n",
    "assigns it to a variable named rand."
   ]
  },
  {
   "cell_type": "code",
   "execution_count": 13,
   "id": "0439e68f",
   "metadata": {},
   "outputs": [],
   "source": [
    "# First start of by doing import random\n",
    "import random\n",
    "\n",
    "rand = random.randint(1,100)\n"
   ]
  },
  {
   "cell_type": "markdown",
   "id": "5bae2b81",
   "metadata": {},
   "source": [
    "The code should now hold a random number between 1 and 100 after executing the variable rand."
   ]
  },
  {
   "cell_type": "markdown",
   "id": "568a0044",
   "metadata": {},
   "source": [
    "## Problem 1 (Programming Ex)"
   ]
  },
  {
   "cell_type": "markdown",
   "id": "4a0075ea",
   "metadata": {},
   "source": [
    "Write a program that asks the user to enter a distance in kilometers, then converts that distance to miles. The conversion formula is as follows:"
   ]
  },
  {
   "cell_type": "code",
   "execution_count": null,
   "id": "4117c363",
   "metadata": {},
   "outputs": [],
   "source": [
    "# Start of by writing a program that asks the user to enter the distance in kilometers\n",
    "kilometers = float(input('Enter the distance in kilometers: '))\n",
    "# Now put in the formula\n",
    "miles = kilometers * 0.6214\n",
    "# Now use the print function with the f string to display the miles variable"
   ]
  }
 ],
 "metadata": {
  "kernelspec": {
   "display_name": "Python 3 (ipykernel)",
   "language": "python",
   "name": "python3"
  },
  "language_info": {
   "codemirror_mode": {
    "name": "ipython",
    "version": 3
   },
   "file_extension": ".py",
   "mimetype": "text/x-python",
   "name": "python",
   "nbconvert_exporter": "python",
   "pygments_lexer": "ipython3",
   "version": "3.10.9"
  }
 },
 "nbformat": 4,
 "nbformat_minor": 5
}
