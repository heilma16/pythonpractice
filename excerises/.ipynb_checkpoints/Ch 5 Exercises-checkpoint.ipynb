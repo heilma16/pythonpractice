{
 "cells": [
  {
   "cell_type": "markdown",
   "id": "ca41ae7c",
   "metadata": {},
   "source": [
    "# Chapter 5 Exercises"
   ]
  },
  {
   "cell_type": "markdown",
   "id": "6565172a",
   "metadata": {},
   "source": [
    "## Problem 1"
   ]
  },
  {
   "cell_type": "markdown",
   "id": "2565d0a3",
   "metadata": {},
   "source": [
    "Write a function named times_ten. The function should accept an argument and display the product of its argument multiplied times 10."
   ]
  },
  {
   "cell_type": "code",
   "execution_count": 7,
   "id": "0fc1c4cf",
   "metadata": {},
   "outputs": [
    {
     "name": "stdout",
     "output_type": "stream",
     "text": [
      "The product of 4 multiplied by 10 is: 40\n"
     ]
    }
   ],
   "source": [
    "# First start of by naming the function (times_ten)\n",
    "def times_ten(number):\n",
    "#Now we have to muliply the number by 10\n",
    "    result = number * 10\n",
    "    print('The product of', number, 'multiplied by 10 is:', result)\n",
    "times_ten(4)"
   ]
  },
  {
   "cell_type": "markdown",
   "id": "ec3582a3",
   "metadata": {},
   "source": [
    "For this problem the times_ten function is defined as the word number. The number is multiplied by 10 and it is the result variable. As you change the number in the last line it will change the result."
   ]
  },
  {
   "cell_type": "markdown",
   "id": "c78ac41a",
   "metadata": {},
   "source": [
    "## Problem 6"
   ]
  },
  {
   "cell_type": "markdown",
   "id": "e53bea4d",
   "metadata": {},
   "source": [
    "Write a statement that generates a random number in the range of 1 through 100 and\n",
    "assigns it to a variable named rand."
   ]
  },
  {
   "cell_type": "code",
   "execution_count": 13,
   "id": "707a3f4b",
   "metadata": {},
   "outputs": [],
   "source": [
    "# First start of by doing import random\n",
    "import random\n",
    "\n",
    "rand = random.randint(1,100)\n"
   ]
  },
  {
   "cell_type": "markdown",
   "id": "a917f2d5",
   "metadata": {},
   "source": [
    "The code should now hold a random number between 1 and 100 after executing the variable rand."
   ]
  },
  {
   "cell_type": "markdown",
   "id": "84fb3cda",
   "metadata": {},
   "source": [
    "## Problem 1 (Programming Ex)"
   ]
  },
  {
   "cell_type": "markdown",
   "id": "0a9a8e90",
   "metadata": {},
   "source": [
    "Write a program that asks the user to enter a distance in kilometers, then converts that distance to miles. The conversion formula is as follows:"
   ]
  },
  {
   "cell_type": "code",
   "execution_count": 14,
   "id": "829d3280",
   "metadata": {},
   "outputs": [
    {
     "name": "stdout",
     "output_type": "stream",
     "text": [
      "Enter the distance in kilometers: 10\n",
      "The distance in miles is: 6.2139999999999995 miles\n"
     ]
    }
   ],
   "source": [
    "# Start of by writing a program that asks the user to enter the distance in kilometers\n",
    "kilometers = float(input('Enter the distance in kilometers: '))\n",
    "# Now put in the formula\n",
    "miles = kilometers * 0.6214\n",
    "# Now use the print function with the f string to display the miles variable\n",
    "print(f'The distance in miles is: {miles} miles')"
   ]
  },
  {
   "cell_type": "markdown",
   "id": "2c8e8740",
   "metadata": {},
   "source": [
    "For this problem what I did was just write programs for what the question prompted me to do by entering the distance in kilometers using the input function. Then I used the formula in the code. Lastly I printed the converted distance in milwa and used the f string to display the miles variable."
   ]
  },
  {
   "cell_type": "markdown",
   "id": "4334c890",
   "metadata": {},
   "source": [
    "## Problem 17 (Prime Numbers)"
   ]
  },
  {
   "cell_type": "markdown",
   "id": "b4b75e96",
   "metadata": {},
   "source": [
    "A prime number is a number that is only evenly divisible by itself and 1. For example, the number 5 is prime because it can only be evenly divided by 1 and 5. The number 6, however, is not prime because it can be divided evenly by 1, 2, 3, and 6.Write a Boolean function named is_prime which takes an integer as an argument and returns true if the argument is a prime number, or false otherwise. Use the function in a program that prompts the user to enter a number then displays a message indicating whether the number is prime."
   ]
  },
  {
   "cell_type": "code",
   "execution_count": 15,
   "id": "c1ec1f6a",
   "metadata": {},
   "outputs": [
    {
     "name": "stdout",
     "output_type": "stream",
     "text": [
      "Enter a number: 4\n",
      "4 is not a prime number.\n"
     ]
    }
   ],
   "source": [
    "# First start off by defining the is_prime function\n",
    "def is_prime(num):\n",
    "    if num < 2:\n",
    "        return False\n",
    "    for i in range(2,num):\n",
    "# What we did here was seeing if the function first checks if the number is less than 2\n",
    "# Because prime numbers are greater than or equal to 2. and if it is less than 2 it is false\n",
    "        if num % i == 0:\n",
    "            return False\n",
    "        \n",
    "    return True\n",
    "# Propmt the user for input\n",
    "number = int(input('Enter a number: '))\n",
    "# Check if the number is prime\n",
    "if is_prime(number):\n",
    "    print(f\"{number} is a prime number.\")\n",
    "else:\n",
    "    print(f\"{number} is not a prime number.\")"
   ]
  },
  {
   "cell_type": "markdown",
   "id": "b4b7382d",
   "metadata": {},
   "source": [
    "In this problem we are defining the is_prime function that takes an integer num as an argument. We first check to see if the number is less than 2. f the number is less than to it returns to False. Our next loop checks the divisibility of num by numbers from 2 to -1. If the num is divisible by any number in that range it will be false. if the loop completes without it not being false the number will be prime."
   ]
  },
  {
   "cell_type": "markdown",
   "id": "583384a1",
   "metadata": {},
   "source": [
    "## Problem 18 (Prime Number List)"
   ]
  },
  {
   "cell_type": "markdown",
   "id": "39b7080d",
   "metadata": {},
   "source": [
    "This exercise assumes that you have already written the is_prime function in Programming Exercise 17. Write another program that displays all of the prime numbers from 1 to 100. The program should have a loop that calls the is_prime function."
   ]
  },
  {
   "cell_type": "code",
   "execution_count": 16,
   "id": "dd0b3523",
   "metadata": {},
   "outputs": [
    {
     "name": "stdout",
     "output_type": "stream",
     "text": [
      "2\n",
      "3\n",
      "5\n",
      "7\n",
      "11\n",
      "13\n",
      "17\n",
      "19\n",
      "23\n",
      "29\n",
      "31\n",
      "37\n",
      "41\n",
      "43\n",
      "47\n",
      "53\n",
      "59\n",
      "61\n",
      "67\n",
      "71\n",
      "73\n",
      "79\n",
      "83\n",
      "89\n",
      "97\n"
     ]
    }
   ],
   "source": [
    "# Start off like the problem before\n",
    "def is_prime(num):\n",
    "    if num < 2:\n",
    "        return False\n",
    "    \n",
    "    for i in range(2, num):\n",
    "        if num % i == 0:\n",
    "            return False\n",
    "        \n",
    "        return True\n",
    "# Now we have to display prime number from 1 to 100\n",
    "for numbers in range(1,101):\n",
    "                   "
   ]
  }
 ],
 "metadata": {
  "kernelspec": {
   "display_name": "Python 3 (ipykernel)",
   "language": "python",
   "name": "python3"
  },
  "language_info": {
   "codemirror_mode": {
    "name": "ipython",
    "version": 3
   },
   "file_extension": ".py",
   "mimetype": "text/x-python",
   "name": "python",
   "nbconvert_exporter": "python",
   "pygments_lexer": "ipython3",
   "version": "3.10.9"
  }
 },
 "nbformat": 4,
 "nbformat_minor": 5
}
