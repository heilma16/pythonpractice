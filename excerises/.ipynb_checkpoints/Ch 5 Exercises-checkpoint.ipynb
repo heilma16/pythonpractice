{
 "cells": [
  {
   "cell_type": "markdown",
   "id": "ef0af598",
   "metadata": {},
   "source": [
    "# Chapter 5 Exercises"
   ]
  },
  {
   "cell_type": "markdown",
   "id": "660efb89",
   "metadata": {},
   "source": [
    "## Problem 1"
   ]
  },
  {
   "cell_type": "markdown",
   "id": "b74ae271",
   "metadata": {},
   "source": [
    "Write a function named times_ten. The function should accept an argument and display the product of its argument multiplied times 10."
   ]
  },
  {
   "cell_type": "code",
   "execution_count": 7,
   "id": "420875d2",
   "metadata": {},
   "outputs": [
    {
     "name": "stdout",
     "output_type": "stream",
     "text": [
      "The product of 4 multiplied by 10 is: 40\n"
     ]
    }
   ],
   "source": [
    "# First start of by naming the function (times_ten)\n",
    "def times_ten(number):\n",
    "#Now we have to muliply the number by 10\n",
    "    result = number * 10\n",
    "    print('The product of', number, 'multiplied by 10 is:', result)\n",
    "times_ten(4)"
   ]
  },
  {
   "cell_type": "markdown",
   "id": "87f25feb",
   "metadata": {},
   "source": [
    "For this problem the times_ten function is defined as the word number. The number is multiplied by 10 and it is the result variable. As you change the number in the last line it will change the result."
   ]
  }
 ],
 "metadata": {
  "kernelspec": {
   "display_name": "Python 3 (ipykernel)",
   "language": "python",
   "name": "python3"
  },
  "language_info": {
   "codemirror_mode": {
    "name": "ipython",
    "version": 3
   },
   "file_extension": ".py",
   "mimetype": "text/x-python",
   "name": "python",
   "nbconvert_exporter": "python",
   "pygments_lexer": "ipython3",
   "version": "3.10.9"
  }
 },
 "nbformat": 4,
 "nbformat_minor": 5
}
