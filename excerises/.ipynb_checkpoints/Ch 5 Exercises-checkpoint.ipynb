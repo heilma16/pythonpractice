{
 "cells": [
  {
   "cell_type": "markdown",
   "id": "0fd2298c",
   "metadata": {},
   "source": [
    "# Chapter 5 Exercises"
   ]
  },
  {
   "cell_type": "markdown",
   "id": "0594af57",
   "metadata": {},
   "source": [
    "## Problem 1"
   ]
  },
  {
   "cell_type": "markdown",
   "id": "76f94de1",
   "metadata": {},
   "source": [
    "Write a function named times_ten. The function should accept an argument and display the product of its argument multiplied times 10."
   ]
  },
  {
   "cell_type": "code",
   "execution_count": 7,
   "id": "0353d0e8",
   "metadata": {},
   "outputs": [
    {
     "name": "stdout",
     "output_type": "stream",
     "text": [
      "The product of 4 multiplied by 10 is: 40\n"
     ]
    }
   ],
   "source": [
    "# First start of by naming the function (times_ten)\n",
    "def times_ten(number):\n",
    "#Now we have to muliply the number by 10\n",
    "    result = number * 10\n",
    "    print('The product of', number, 'multiplied by 10 is:', result)\n",
    "times_ten(4)"
   ]
  },
  {
   "cell_type": "markdown",
   "id": "a86e8d37",
   "metadata": {},
   "source": [
    "For this problem the times_ten function is defined as the word number. The number is multiplied by 10 and it is the result variable. As you change the number in the last line it will change the result."
   ]
  },
  {
   "cell_type": "markdown",
   "id": "1f6aaab3",
   "metadata": {},
   "source": [
    "## Problem 6"
   ]
  },
  {
   "cell_type": "markdown",
   "id": "c5bc64c3",
   "metadata": {},
   "source": [
    "Write a statement that generates a random number in the range of 1 through 100 and\n",
    "assigns it to a variable named rand."
   ]
  },
  {
   "cell_type": "code",
   "execution_count": 13,
   "id": "7fd84d9b",
   "metadata": {},
   "outputs": [],
   "source": [
    "# First start of by doing import random\n",
    "import random\n",
    "\n",
    "rand = random.randint(1,100)\n"
   ]
  },
  {
   "cell_type": "markdown",
   "id": "b712a9fd",
   "metadata": {},
   "source": [
    "The code should now hold a random number between 1 and 100 after executing the variable rand."
   ]
  },
  {
   "cell_type": "markdown",
   "id": "a0c40f1e",
   "metadata": {},
   "source": [
    "## Problem 1 (Programming Ex)"
   ]
  },
  {
   "cell_type": "markdown",
   "id": "b5de5404",
   "metadata": {},
   "source": [
    "Write a program that asks the user to enter a distance in kilometers, then converts that distance to miles. The conversion formula is as follows:"
   ]
  },
  {
   "cell_type": "code",
   "execution_count": 14,
   "id": "14451fba",
   "metadata": {},
   "outputs": [
    {
     "name": "stdout",
     "output_type": "stream",
     "text": [
      "Enter the distance in kilometers: 10\n",
      "The distance in miles is: 6.2139999999999995 miles\n"
     ]
    }
   ],
   "source": [
    "# Start of by writing a program that asks the user to enter the distance in kilometers\n",
    "kilometers = float(input('Enter the distance in kilometers: '))\n",
    "# Now put in the formula\n",
    "miles = kilometers * 0.6214\n",
    "# Now use the print function with the f string to display the miles variable\n",
    "print(f'The distance in miles is: {miles} miles')"
   ]
  },
  {
   "cell_type": "markdown",
   "id": "7e239fe7",
   "metadata": {},
   "source": [
    "For this problem what I did was just write programs for what the question prompted me to do by entering the distance in kilometers using the input function. Then I used the formula in the code. Lastly I printed the converted distance in milwa and used the f string to display the miles variable."
   ]
  },
  {
   "cell_type": "code",
   "execution_count": null,
   "id": "11713c7a",
   "metadata": {},
   "outputs": [],
   "source": []
  }
 ],
 "metadata": {
  "kernelspec": {
   "display_name": "Python 3 (ipykernel)",
   "language": "python",
   "name": "python3"
  },
  "language_info": {
   "codemirror_mode": {
    "name": "ipython",
    "version": 3
   },
   "file_extension": ".py",
   "mimetype": "text/x-python",
   "name": "python",
   "nbconvert_exporter": "python",
   "pygments_lexer": "ipython3",
   "version": "3.10.9"
  }
 },
 "nbformat": 4,
 "nbformat_minor": 5
}
