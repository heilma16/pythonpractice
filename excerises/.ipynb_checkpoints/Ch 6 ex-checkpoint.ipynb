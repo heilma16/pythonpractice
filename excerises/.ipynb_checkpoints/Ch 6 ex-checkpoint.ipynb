{
 "cells": [
  {
   "cell_type": "markdown",
   "id": "a94bdabb",
   "metadata": {},
   "source": [
    "# Ch 6 Exercises"
   ]
  },
  {
   "cell_type": "markdown",
   "id": "3bfeb1c6",
   "metadata": {},
   "source": [
    "## Problem 3"
   ]
  },
  {
   "cell_type": "markdown",
   "id": "ea9dbede",
   "metadata": {},
   "source": [
    "Write code that does the following: opens an output file with the filename number_ list.txt, uses a loop to write the numbers 1 through 100 to the file, then closes the file."
   ]
  },
  {
   "cell_type": "code",
   "execution_count": 2,
   "id": "364d7594",
   "metadata": {},
   "outputs": [
    {
     "name": "stdout",
     "output_type": "stream",
     "text": [
      "Numbers written ti file succesfully\n"
     ]
    }
   ],
   "source": [
    "# Start out by opening an output\n",
    "def write_numbers_to_file(file_name):\n",
    "    try:\n",
    "# Open the file in write mode\n",
    "        with open(file_name, 'w') as file:\n",
    "# Write numbers 1 to 100 with the file        \n",
    "           for number in range(1,101):\n",
    "               file.write(str(number) + '\\n')\n",
    "        print(\"Numbers written ti file succesfully\")\n",
    "    except IOError:\n",
    "        print(\"Error: Unable to write to the file.\")\n",
    "# Now we have to provide file name\n",
    "file_name = \"number_list.txt\"\n",
    "# Call the function to write numbers to the file\n",
    "write_numbers_to_file(file_name)\n",
    "\n",
    "        "
   ]
  },
  {
   "cell_type": "markdown",
   "id": "45232b90",
   "metadata": {},
   "source": [
    "So for this code the write numbers to file function takes the file name as an argument. What I did to open the file was use with. The 1,100 are written to the file using the write statement. If a error occured an error message will be displayed. "
   ]
  },
  {
   "cell_type": "markdown",
   "id": "c33acda5",
   "metadata": {},
   "source": [
    "## Problem 1"
   ]
  },
  {
   "cell_type": "markdown",
   "id": "f8381056",
   "metadata": {},
   "source": [
    "Write a program that opens an output file with the filename my_name.txt, writes your name to the file, then closes the file."
   ]
  },
  {
   "cell_type": "code",
   "execution_count": 6,
   "id": "de0a81f6",
   "metadata": {},
   "outputs": [
    {
     "name": "stdout",
     "output_type": "stream",
     "text": [
      "Name written to file succesfully.\n"
     ]
    }
   ],
   "source": [
    "# Start off the same as the problem above\n",
    "def write_numbers_to_file(file_name):\n",
    "    try:\n",
    "#Open file in write mode        \n",
    "        file = open(file_name,'w')\n",
    "# Write the name to the file\n",
    "        file.write(name)\n",
    "# Close the file\n",
    "        file.close()\n",
    "        print(\"Name written to file succesfully.\")\n",
    "    except IOError:\n",
    "        print(\"Error: Unable to write to the file.\")\n",
    "# Provide file name and the name to be written\n",
    "file_name = \"my_name.txt\"\n",
    "name = \"Seaton Heilman\"\n",
    "#Call the function to write the name to the file\n",
    "write_numbers_to_file(file_name)"
   ]
  },
  {
   "cell_type": "markdown",
   "id": "e2109182",
   "metadata": {},
   "source": [
    "For the most part it was like the code above. But some of the other thing that I did was just use the write method and the close method."
   ]
  },
  {
   "cell_type": "markdown",
   "id": "c48d2883",
   "metadata": {},
   "source": [
    "## Problem 1 (Programming Exercises)"
   ]
  },
  {
   "cell_type": "markdown",
   "id": "10f954b6",
   "metadata": {},
   "source": [
    "Assume a file containing a series of integers is named numbers.txt and exists on the computer’s disk. Write a program that displays all of the numbers in the file."
   ]
  },
  {
   "cell_type": "code",
   "execution_count": null,
   "id": "9b59f9d5",
   "metadata": {},
   "outputs": [],
   "source": [
    "def display_numbers_from_file(file_name):\n",
    "    try:\n",
    "# Open the file in read mode\n",
    "        with open(file_name, 'r') as file:\n",
    "# Read all lines from the file\n",
    "            lines = file.readlines()\n",
    "# Process each line and display the numbers\n",
    "        for line in lines:\n",
    "            # Remove leading/trailing whitespace and convert to integer\n",
    "            number = int(line.strip())\n",
    "            print(number)\n",
    "        "
   ]
  }
 ],
 "metadata": {
  "kernelspec": {
   "display_name": "Python 3 (ipykernel)",
   "language": "python",
   "name": "python3"
  },
  "language_info": {
   "codemirror_mode": {
    "name": "ipython",
    "version": 3
   },
   "file_extension": ".py",
   "mimetype": "text/x-python",
   "name": "python",
   "nbconvert_exporter": "python",
   "pygments_lexer": "ipython3",
   "version": "3.10.9"
  }
 },
 "nbformat": 4,
 "nbformat_minor": 5
}
