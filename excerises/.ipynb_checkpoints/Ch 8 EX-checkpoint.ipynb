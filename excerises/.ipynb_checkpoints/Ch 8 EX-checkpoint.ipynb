{
 "cells": [
  {
   "cell_type": "markdown",
   "id": "abf2ec57",
   "metadata": {},
   "source": [
    "# CH 8 Exercises\n",
    "## Problem 2 (Algorithim Workbench)"
   ]
  },
  {
   "cell_type": "code",
   "execution_count": 1,
   "id": "da01794d",
   "metadata": {},
   "outputs": [
    {
     "name": "stdout",
     "output_type": "stream",
     "text": [
      "Number of space characters: 1\n"
     ]
    }
   ],
   "source": [
    "my_string = \"Hello, World!\"\n",
    "count = 0\n",
    "for char in my_string:\n",
    "    if char == \" \":\n",
    "        count += 1\n",
    "print(\"Number of space characters:\", count)"
   ]
  },
  {
   "cell_type": "markdown",
   "id": "6e432e94",
   "metadata": {},
   "source": [
    "For this code I used the count variable to be at 0 so I am able to keep track of the number space characters. the for loop helped by using the my_string. The count will be increasing by 1 because of the char variable. "
   ]
  },
  {
   "cell_type": "markdown",
   "id": "132ac8d8",
   "metadata": {},
   "source": [
    "## Problem 3 (Algorithim Workbench)"
   ]
  },
  {
   "cell_type": "code",
   "execution_count": 7,
   "id": "ffec642a",
   "metadata": {},
   "outputs": [
    {
     "name": "stdout",
     "output_type": "stream",
     "text": [
      "Number of digits: 6\n"
     ]
    }
   ],
   "source": [
    "my_string = \"Seaton123456\"\n",
    "count = 0\n",
    "for char in my_string:\n",
    "    if char.isdigit():\n",
    "        count += 1\n",
    "print(\"Number of digits:\", count)\n"
   ]
  },
  {
   "cell_type": "markdown",
   "id": "e57f27fc",
   "metadata": {},
   "source": [
    "For this code I used the count variable like the problem above. The only thing that I chnage for this code was the first line for the number of digits and the if char,isdigit. I did this because we had to count the number of digits."
   ]
  },
  {
   "cell_type": "markdown",
   "id": "d0c97b2b",
   "metadata": {},
   "source": [
    "## Problem 1 (Programming Exercises)"
   ]
  },
  {
   "cell_type": "code",
   "execution_count": null,
   "id": "657f69b0",
   "metadata": {},
   "outputs": [],
   "source": [
    "full_name = input(\"Enter your full name: \")\n"
   ]
  },
  {
   "cell_type": "code",
   "execution_count": null,
   "id": "ab2229e9",
   "metadata": {},
   "outputs": [],
   "source": []
  }
 ],
 "metadata": {
  "kernelspec": {
   "display_name": "Python 3 (ipykernel)",
   "language": "python",
   "name": "python3"
  },
  "language_info": {
   "codemirror_mode": {
    "name": "ipython",
    "version": 3
   },
   "file_extension": ".py",
   "mimetype": "text/x-python",
   "name": "python",
   "nbconvert_exporter": "python",
   "pygments_lexer": "ipython3",
   "version": "3.10.9"
  }
 },
 "nbformat": 4,
 "nbformat_minor": 5
}
