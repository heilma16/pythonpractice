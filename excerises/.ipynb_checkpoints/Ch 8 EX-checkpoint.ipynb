{
 "cells": [
  {
   "cell_type": "markdown",
   "id": "dcc22324",
   "metadata": {},
   "source": [
    "# CH 8 Exercises\n",
    "## Problem 2 (Algorithim Workbench)"
   ]
  },
  {
   "cell_type": "code",
   "execution_count": 1,
   "id": "d01cc67e",
   "metadata": {},
   "outputs": [
    {
     "name": "stdout",
     "output_type": "stream",
     "text": [
      "Number of space characters: 1\n"
     ]
    }
   ],
   "source": [
    "my_string = \"Hello, World!\"\n",
    "count = 0\n",
    "for char in my_string:\n",
    "    if char == \" \":\n",
    "        count += 1\n",
    "print(\"Number of space characters:\", count)"
   ]
  },
  {
   "cell_type": "markdown",
   "id": "1e3d30f9",
   "metadata": {},
   "source": [
    "For this code I used the count variable to be at 0 so I am able to keep track of the number space characters. the for loop helped by using the my_string. The count will be increasing by 1 because of the char variable. "
   ]
  },
  {
   "cell_type": "markdown",
   "id": "0d341bc9",
   "metadata": {},
   "source": [
    "## Problem 3 (Algorithim Workbench)"
   ]
  },
  {
   "cell_type": "code",
   "execution_count": 7,
   "id": "a4cc3457",
   "metadata": {},
   "outputs": [
    {
     "name": "stdout",
     "output_type": "stream",
     "text": [
      "Number of digits: 6\n"
     ]
    }
   ],
   "source": [
    "my_string = \"Seaton123456\"\n",
    "count = 0\n",
    "for char in my_string:\n",
    "    if char.isdigit():\n",
    "        count += 1\n",
    "print(\"Number of digits:\", count)\n"
   ]
  },
  {
   "cell_type": "markdown",
   "id": "e26e5b0b",
   "metadata": {},
   "source": [
    "For this code I used the count variable like the problem above. The only thing that I chnage for this code was the first line for the number of digits and the if char,isdigit. I did this because we had to count the number of digits."
   ]
  },
  {
   "cell_type": "markdown",
   "id": "c3c7a858",
   "metadata": {},
   "source": [
    "## Problem 1 (Programming Exercises)"
   ]
  },
  {
   "cell_type": "code",
   "execution_count": null,
   "id": "d033ba25",
   "metadata": {},
   "outputs": [],
   "source": [
    "full_name = input(\"Enter your full name: \")\n",
    "# Now we gotta split the full name\n",
    "names = full_name.split()\n",
    "# Now lets get the initials\n",
    "initials = [name[0].upper() + '.' for name in names]\n",
    "# Lastly display initials"
   ]
  },
  {
   "cell_type": "code",
   "execution_count": null,
   "id": "1770dbff",
   "metadata": {},
   "outputs": [],
   "source": []
  }
 ],
 "metadata": {
  "kernelspec": {
   "display_name": "Python 3 (ipykernel)",
   "language": "python",
   "name": "python3"
  },
  "language_info": {
   "codemirror_mode": {
    "name": "ipython",
    "version": 3
   },
   "file_extension": ".py",
   "mimetype": "text/x-python",
   "name": "python",
   "nbconvert_exporter": "python",
   "pygments_lexer": "ipython3",
   "version": "3.10.9"
  }
 },
 "nbformat": 4,
 "nbformat_minor": 5
}
