{
 "cells": [
  {
   "cell_type": "markdown",
   "id": "8beb27da",
   "metadata": {},
   "source": [
    "# CH 8 Exercises\n",
    "## Problem 2 (Algorithim Workbench)"
   ]
  },
  {
   "cell_type": "code",
   "execution_count": 1,
   "id": "5236478c",
   "metadata": {},
   "outputs": [
    {
     "name": "stdout",
     "output_type": "stream",
     "text": [
      "Number of space characters: 1\n"
     ]
    }
   ],
   "source": [
    "my_string = \"Hello, World!\"\n",
    "count = 0\n",
    "for char in my_string:\n",
    "    if char == \" \":\n",
    "        count += 1\n",
    "print(\"Number of space characters:\", count)"
   ]
  },
  {
   "cell_type": "markdown",
   "id": "1f0f77b0",
   "metadata": {},
   "source": [
    "For this code I used the count variable to be at 0 so I am able to keep track of the number space characters. the for loop helped by using the my_string. The count will be increasing by 1 because of the char variable. "
   ]
  },
  {
   "cell_type": "markdown",
   "id": "9ace43e5",
   "metadata": {},
   "source": [
    "## Problem 3 (Algorithim Workbench)"
   ]
  },
  {
   "cell_type": "code",
   "execution_count": 6,
   "id": "b43ffe2b",
   "metadata": {},
   "outputs": [],
   "source": [
    "my_string = \"Seaton123456\"\n",
    "count = 0\n"
   ]
  }
 ],
 "metadata": {
  "kernelspec": {
   "display_name": "Python 3 (ipykernel)",
   "language": "python",
   "name": "python3"
  },
  "language_info": {
   "codemirror_mode": {
    "name": "ipython",
    "version": 3
   },
   "file_extension": ".py",
   "mimetype": "text/x-python",
   "name": "python",
   "nbconvert_exporter": "python",
   "pygments_lexer": "ipython3",
   "version": "3.10.9"
  }
 },
 "nbformat": 4,
 "nbformat_minor": 5
}
