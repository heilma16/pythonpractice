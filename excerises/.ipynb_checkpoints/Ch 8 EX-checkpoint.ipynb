{
 "cells": [
  {
   "cell_type": "markdown",
   "id": "bd7600bf",
   "metadata": {},
   "source": [
    "# CH 8 Exercises\n",
    "## Problem 2 (Algorithim Workbench)"
   ]
  },
  {
   "cell_type": "code",
   "execution_count": 1,
   "id": "ef68d96f",
   "metadata": {},
   "outputs": [
    {
     "name": "stdout",
     "output_type": "stream",
     "text": [
      "Number of space characters: 1\n"
     ]
    }
   ],
   "source": [
    "my_string = \"Hello, World!\"\n",
    "count = 0\n",
    "for char in my_string:\n",
    "    if char == \" \":\n",
    "        count += 1\n",
    "print(\"Number of space characters:\", count)"
   ]
  },
  {
   "cell_type": "markdown",
   "id": "d6efb9ca",
   "metadata": {},
   "source": [
    "For this code I used the count variable to be at 0 so I am able to keep track of the number space characters. the for loop helped by using the my_string. The count will be increasing by 1 because of the char variable. "
   ]
  },
  {
   "cell_type": "markdown",
   "id": "73e72c2e",
   "metadata": {},
   "source": [
    "## Problem 3 (Algorithim Workbench)"
   ]
  },
  {
   "cell_type": "code",
   "execution_count": 7,
   "id": "4e61f7b8",
   "metadata": {},
   "outputs": [
    {
     "name": "stdout",
     "output_type": "stream",
     "text": [
      "Number of digits: 6\n"
     ]
    }
   ],
   "source": [
    "my_string = \"Seaton123456\"\n",
    "count = 0\n",
    "for char in my_string:\n",
    "    if char.isdigit():\n",
    "        count += 1\n",
    "print(\"Number of digits:\", count)\n"
   ]
  },
  {
   "cell_type": "markdown",
   "id": "6c12aea5",
   "metadata": {},
   "source": [
    "For this code I used the count variable like the problem above. The only thing that I chnage for this code was the first line for the number of digits and the if char,isdigit. I did this because we had to count the number of digits."
   ]
  },
  {
   "cell_type": "markdown",
   "id": "9bc05fef",
   "metadata": {},
   "source": [
    "## Problem 1 (Programming Exercises)"
   ]
  },
  {
   "cell_type": "code",
   "execution_count": null,
   "id": "2a3b1623",
   "metadata": {},
   "outputs": [],
   "source": [
    "full_name = input(\"Enter your full name: \")\n",
    "# Now we gotta split the full name\n",
    "names = full_name.split()\n",
    "# Now lets get the initials\n",
    "initials = [name[0].upper() + '.' for name in names]\n",
    "# Lastly display initials\n",
    "print('SJH '.join(initials))"
   ]
  },
  {
   "cell_type": "markdown",
   "id": "cd8b616c",
   "metadata": {},
   "source": [
    "Im not sure why this code isn't printing. If someone can help it would be appreciated!!"
   ]
  },
  {
   "cell_type": "markdown",
   "id": "03d03355",
   "metadata": {},
   "source": [
    "## Problem 3 (Programming Exercises)"
   ]
  },
  {
   "cell_type": "code",
   "execution_count": null,
   "id": "e5e272c8",
   "metadata": {},
   "outputs": [],
   "source": [
    "date_string = input(\"Enter a date mm/dd/yyyy): 04/06/2004 \")\n",
    "# Split date into month, day, and year\n",
    "month, day, year = date_string.split('/')\n",
    "# Put in all the months\n",
    "month_names = {\n",
    "    '01': 'January',\n",
    "    '02': 'February',\n",
    "    '03': 'March',\n",
    "    '04': 'April',\n",
    "    '05': 'May',\n",
    "    '06': 'June',\n",
    "    '07': 'July',\n",
    "    '08': 'August',\n",
    "    '09': 'September',\n",
    "    '10': 'October',\n",
    "    '11': 'November',\n",
    "    '12': 'December'"
   ]
  }
 ],
 "metadata": {
  "kernelspec": {
   "display_name": "Python 3 (ipykernel)",
   "language": "python",
   "name": "python3"
  },
  "language_info": {
   "codemirror_mode": {
    "name": "ipython",
    "version": 3
   },
   "file_extension": ".py",
   "mimetype": "text/x-python",
   "name": "python",
   "nbconvert_exporter": "python",
   "pygments_lexer": "ipython3",
   "version": "3.10.9"
  }
 },
 "nbformat": 4,
 "nbformat_minor": 5
}
