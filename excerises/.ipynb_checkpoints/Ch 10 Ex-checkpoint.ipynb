{
 "cells": [
  {
   "cell_type": "markdown",
   "id": "144ad5c9",
   "metadata": {},
   "source": [
    "# Chapter 10 EX\n",
    "## Problem 3"
   ]
  },
  {
   "cell_type": "markdown",
   "id": "353f66e8",
   "metadata": {},
   "source": [
    "Design a class that holds the following personal data: name, address, age, and phone number. Write appropriate accessor and mutator methods. Also, write a program that creates three instances of the class. One instance should hold your information, and the other two should hold your friends’ or family members’ information."
   ]
  },
  {
   "cell_type": "code",
   "execution_count": 4,
   "id": "f67cee16",
   "metadata": {},
   "outputs": [
    {
     "name": "stdout",
     "output_type": "stream",
     "text": [
      "Your Information:\n",
      "Name: Seaton\n",
      "Address: 3445 circle st\n",
      "Age: 25\n"
     ]
    },
    {
     "ename": "NameError",
     "evalue": "name 'name' is not defined",
     "output_type": "error",
     "traceback": [
      "\u001b[1;31m---------------------------------------------------------------------------\u001b[0m",
      "\u001b[1;31mNameError\u001b[0m                                 Traceback (most recent call last)",
      "Cell \u001b[1;32mIn[4], line 36\u001b[0m\n\u001b[0;32m     34\u001b[0m \u001b[38;5;28mprint\u001b[39m(\u001b[38;5;124m\"\u001b[39m\u001b[38;5;124mAddress:\u001b[39m\u001b[38;5;124m\"\u001b[39m, your_info\u001b[38;5;241m.\u001b[39mget_address())\n\u001b[0;32m     35\u001b[0m \u001b[38;5;28mprint\u001b[39m(\u001b[38;5;124m\"\u001b[39m\u001b[38;5;124mAge:\u001b[39m\u001b[38;5;124m\"\u001b[39m, your_info\u001b[38;5;241m.\u001b[39mget_age())\n\u001b[1;32m---> 36\u001b[0m \u001b[38;5;28mprint\u001b[39m(\u001b[38;5;124m\"\u001b[39m\u001b[38;5;124mPhone Number:\u001b[39m\u001b[38;5;124m\"\u001b[39m, \u001b[43myour_info\u001b[49m\u001b[38;5;241;43m.\u001b[39;49m\u001b[43mget_phone_number\u001b[49m\u001b[43m(\u001b[49m\u001b[43m)\u001b[49m)\n\u001b[0;32m     37\u001b[0m \u001b[38;5;28mprint\u001b[39m()\n\u001b[0;32m     39\u001b[0m \u001b[38;5;28mprint\u001b[39m(\u001b[38;5;124m\"\u001b[39m\u001b[38;5;124mFriend 1 Information:\u001b[39m\u001b[38;5;124m\"\u001b[39m)\n",
      "Cell \u001b[1;32mIn[4], line 18\u001b[0m, in \u001b[0;36mPersonalData.get_phone_number\u001b[1;34m(self)\u001b[0m\n\u001b[0;32m     16\u001b[0m \u001b[38;5;28;01mdef\u001b[39;00m \u001b[38;5;21mget_phone_number\u001b[39m(\u001b[38;5;28mself\u001b[39m):\n\u001b[1;32m---> 18\u001b[0m     \u001b[38;5;28mself\u001b[39m\u001b[38;5;241m.\u001b[39m_name \u001b[38;5;241m=\u001b[39m \u001b[43mname\u001b[49m\n",
      "\u001b[1;31mNameError\u001b[0m: name 'name' is not defined"
     ]
    }
   ],
   "source": [
    "class PersonalData:\n",
    "    def __init__(self, name, address, age, phone_number):\n",
    "        self._name = name\n",
    "        self._address = address\n",
    "        self._age = age\n",
    "        self._phone_number = phone_number\n",
    "    def get_name(self):\n",
    "        return self._name\n",
    "# Get all the info\n",
    "    def get_address(self):\n",
    "        return self._address\n",
    "\n",
    "    def get_age(self):\n",
    "        return self._age\n",
    "\n",
    "    def get_phone_number(self):\n",
    "\n",
    "        self._name = name\n",
    "#Set all the info\n",
    "    def set_address(self, address):\n",
    "        self._address = address\n",
    "\n",
    "    def set_age(self, age):\n",
    "        self._age = age\n",
    "\n",
    "    def set_phone_number(self, phone_number):\n",
    "        self._phone_number = phone_number\n",
    "if __name__ == \"__main__\":\n",
    "    your_info = PersonalData(\"Seaton\", \"3445 circle st\", 25, \"5864958502\")\n",
    "    friend1_info = PersonalData(\"Steve\", \"1234 ST\", 30, \"5867178333\")\n",
    "    friend2_info = PersonalData(\"Tom\", \"2343 glacier st\", 27, \"2489438234\")\n",
    "    print(\"Your Information:\")\n",
    "    print(\"Name:\", your_info.get_name())\n",
    "    print(\"Address:\", your_info.get_address())\n",
    "    print(\"Age:\", your_info.get_age())\n",
    "    print(\"Phone Number:\", your_info.get_phone_number())\n",
    "    print()\n",
    "\n",
    "    print(\"Friend 1 Information:\")\n",
    "    print(\"Name:\", friend1_info.get_name())\n",
    "    print(\"Address:\", friend1_info.get_address())\n",
    "    print(\"Age:\", friend1_info.get_age())\n",
    "    print(\"Phone Number:\", friend1_info.get_phone_number())\n",
    "    print()\n",
    "\n",
    "    print(\"Friend 2 Information:\")\n",
    "    print(\"Name:\", friend2_info.get_name())\n",
    "    print(\"Address:\", friend2_info.get_address())\n",
    "    print(\"Age:\", friend2_info.get_age())\n",
    "    print(\"Phone Number:\", friend2_info.get_phone_number())\n"
   ]
  },
  {
   "cell_type": "markdown",
   "id": "85f213bf",
   "metadata": {},
   "source": [
    "# Problem 6"
   ]
  },
  {
   "cell_type": "code",
   "execution_count": 9,
   "id": "948c93e5",
   "metadata": {},
   "outputs": [
    {
     "ename": "TypeError",
     "evalue": "PersonalInformation.__init__() missing 10 required positional arguments: 'first_name', 'middle_name', 'last_name', 'address', 'city', 'state', 'zip_code', 'phone_number', 'emergency_contact_name', and 'emergency_contact_phone'",
     "output_type": "error",
     "traceback": [
      "\u001b[1;31m---------------------------------------------------------------------------\u001b[0m",
      "\u001b[1;31mTypeError\u001b[0m                                 Traceback (most recent call last)",
      "Cell \u001b[1;32mIn[9], line 21\u001b[0m\n\u001b[0;32m     13\u001b[0m         \u001b[38;5;28;01mreturn\u001b[39;00m \u001b[38;5;124mf\u001b[39m\u001b[38;5;124m\"\u001b[39m\u001b[38;5;124mName: \u001b[39m\u001b[38;5;132;01m{\u001b[39;00m\u001b[38;5;28mself\u001b[39m\u001b[38;5;241m.\u001b[39mfirst_name\u001b[38;5;132;01m}\u001b[39;00m\u001b[38;5;124m \u001b[39m\u001b[38;5;132;01m{\u001b[39;00m\u001b[38;5;28mself\u001b[39m\u001b[38;5;241m.\u001b[39mmiddle_name\u001b[38;5;132;01m}\u001b[39;00m\u001b[38;5;124m \u001b[39m\u001b[38;5;132;01m{\u001b[39;00m\u001b[38;5;28mself\u001b[39m\u001b[38;5;241m.\u001b[39mlast_name\u001b[38;5;132;01m}\u001b[39;00m\u001b[38;5;130;01m\\n\u001b[39;00m\u001b[38;5;124m\"\u001b[39m \\\n\u001b[0;32m     14\u001b[0m                \u001b[38;5;124mf\u001b[39m\u001b[38;5;124m\"\u001b[39m\u001b[38;5;124mAddress: \u001b[39m\u001b[38;5;132;01m{\u001b[39;00m\u001b[38;5;28mself\u001b[39m\u001b[38;5;241m.\u001b[39maddress\u001b[38;5;132;01m}\u001b[39;00m\u001b[38;5;130;01m\\n\u001b[39;00m\u001b[38;5;124m\"\u001b[39m \\\n\u001b[0;32m     15\u001b[0m                \u001b[38;5;124mf\u001b[39m\u001b[38;5;124m\"\u001b[39m\u001b[38;5;124mCity: \u001b[39m\u001b[38;5;132;01m{\u001b[39;00m\u001b[38;5;28mself\u001b[39m\u001b[38;5;241m.\u001b[39mcity\u001b[38;5;132;01m}\u001b[39;00m\u001b[38;5;130;01m\\n\u001b[39;00m\u001b[38;5;124m\"\u001b[39m \\\n\u001b[1;32m   (...)\u001b[0m\n\u001b[0;32m     18\u001b[0m                \u001b[38;5;124mf\u001b[39m\u001b[38;5;124m\"\u001b[39m\u001b[38;5;124mPhone Number: \u001b[39m\u001b[38;5;132;01m{\u001b[39;00m\u001b[38;5;28mself\u001b[39m\u001b[38;5;241m.\u001b[39mphone_number\u001b[38;5;132;01m}\u001b[39;00m\u001b[38;5;130;01m\\n\u001b[39;00m\u001b[38;5;124m\"\u001b[39m \\\n\u001b[0;32m     19\u001b[0m                \u001b[38;5;124mf\u001b[39m\u001b[38;5;124m\"\u001b[39m\u001b[38;5;124mEmergency Contact: \u001b[39m\u001b[38;5;132;01m{\u001b[39;00m\u001b[38;5;28mself\u001b[39m\u001b[38;5;241m.\u001b[39memergency_contact_name\u001b[38;5;132;01m}\u001b[39;00m\u001b[38;5;124m, \u001b[39m\u001b[38;5;132;01m{\u001b[39;00m\u001b[38;5;28mself\u001b[39m\u001b[38;5;241m.\u001b[39memergency_contact_phone\u001b[38;5;132;01m}\u001b[39;00m\u001b[38;5;124m\"\u001b[39m\n\u001b[0;32m     20\u001b[0m \u001b[38;5;28;01mif\u001b[39;00m \u001b[38;5;18m__name__\u001b[39m \u001b[38;5;241m==\u001b[39m \u001b[38;5;124m\"\u001b[39m\u001b[38;5;124m__main__\u001b[39m\u001b[38;5;124m\"\u001b[39m:\n\u001b[1;32m---> 21\u001b[0m     person_info \u001b[38;5;241m=\u001b[39m \u001b[43mPersonalInformation\u001b[49m\u001b[43m(\u001b[49m\u001b[43m)\u001b[49m\n\u001b[0;32m     22\u001b[0m     first_name\u001b[38;5;241m=\u001b[39m\u001b[38;5;124m\"\u001b[39m\u001b[38;5;124mMatt\u001b[39m\u001b[38;5;124m\"\u001b[39m,\n\u001b[0;32m     23\u001b[0m     middle_name\u001b[38;5;241m=\u001b[39m\u001b[38;5;124m\"\u001b[39m\u001b[38;5;124mRichard\u001b[39m\u001b[38;5;124m\"\u001b[39m,\n",
      "\u001b[1;31mTypeError\u001b[0m: PersonalInformation.__init__() missing 10 required positional arguments: 'first_name', 'middle_name', 'last_name', 'address', 'city', 'state', 'zip_code', 'phone_number', 'emergency_contact_name', and 'emergency_contact_phone'"
     ]
    }
   ],
   "source": [
    "class PersonalInformation:\n",
    "    def __init__(self, first_name, middle_name, last_name, address, city, state, zip_code, phone_number, emergency_contact_name, emergency_contact_phone):\n",
    "        self.first_name = first_nameself.middle_name = middle_name\n",
    "        self.last_name = last_name\n",
    "        self.address = address\n",
    "        self.city = city\n",
    "        self.state = state\n",
    "        self.zip_code = zip_code\n",
    "        self.phone_number = phone_number\n",
    "        self.emergency_contact_name = emergency_contact_name\n",
    "        self.emergency_contact_phone = emergency_contact_phone\n",
    "    def __str__(self):\n",
    "        return f\"Name: {self.first_name} {self.middle_name} {self.last_name}\\n\" \\\n",
    "               f\"Address: {self.address}\\n\" \\\n",
    "               f\"City: {self.city}\\n\" \\\n",
    "               f\"State: {self.state}\\n\" \\\n",
    "               f\"ZIP Code: {self.zip_code}\\n\" \\\n",
    "               f\"Phone Number: {self.phone_number}\\n\" \\\n",
    "               f\"Emergency Contact: {self.emergency_contact_name}, {self.emergency_contact_phone}\"\n",
    "if __name__ == \"__main__\":\n",
    "    person_info = PersonalInformation()\n",
    "    first_name=\"Matt\",\n",
    "    middle_name=\"Richard\",\n",
    "    last_name=\"Jones\",\n",
    "    address=\"234 Main Street\",\n",
    "    city=\"Macomb\",\n",
    "    state=\"Michigan\",\n",
    "    zip_code=\"48315\",\n",
    "    phone_number=\"248-853-0912\",\n",
    "    emergency_contact_name=\"Tyler Jones\",\n",
    "    emergency_contact_phone=\"586-234-8970\"\n",
    "    print(person_info)"
   ]
  }
 ],
 "metadata": {
  "kernelspec": {
   "display_name": "Python 3 (ipykernel)",
   "language": "python",
   "name": "python3"
  },
  "language_info": {
   "codemirror_mode": {
    "name": "ipython",
    "version": 3
   },
   "file_extension": ".py",
   "mimetype": "text/x-python",
   "name": "python",
   "nbconvert_exporter": "python",
   "pygments_lexer": "ipython3",
   "version": "3.10.9"
  }
 },
 "nbformat": 4,
 "nbformat_minor": 5
}
