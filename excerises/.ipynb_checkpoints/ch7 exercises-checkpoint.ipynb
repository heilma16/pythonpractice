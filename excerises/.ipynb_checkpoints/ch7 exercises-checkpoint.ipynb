{
 "cells": [
  {
   "cell_type": "markdown",
   "id": "886ae176",
   "metadata": {},
   "source": [
    "# Chapter 7 Exercises\n",
    "## Problem 2 (Algorithim Workbench)"
   ]
  },
  {
   "cell_type": "code",
   "execution_count": 1,
   "id": "5cc2c656",
   "metadata": {},
   "outputs": [
    {
     "name": "stdout",
     "output_type": "stream",
     "text": [
      "['Seaton']\n",
      "['Joey']\n",
      "['Steve']\n",
      "['Tyler']\n"
     ]
    }
   ],
   "source": [
    "names = ['Seaton', 'Joey' , 'Steve' , 'Tyler']\n",
    "\n",
    "for name in names:\n",
    "    print([name])"
   ]
  },
  {
   "cell_type": "markdown",
   "id": "e0a8e660",
   "metadata": {},
   "source": [
    "For this problem all I did was just use a for loop aand named it names. The print name statement made sure to print out the names on a seperate list by using the bracktes."
   ]
  },
  {
   "cell_type": "markdown",
   "id": "9524a54d",
   "metadata": {},
   "source": [
    "## Problem 1 (Algortihim Workbench)"
   ]
  },
  {
   "cell_type": "code",
   "execution_count": 5,
   "id": "6a7d65ed",
   "metadata": {},
   "outputs": [],
   "source": [
    "my_list = ['Einstein', 'Newton', 'Copernicus', 'Kepler']"
   ]
  },
  {
   "cell_type": "markdown",
   "id": "ba0ba59e",
   "metadata": {},
   "source": [
    "Im not sure if this one is completley right but for this statment all I did was use square brackets to define my list."
   ]
  },
  {
   "cell_type": "markdown",
   "id": "92064107",
   "metadata": {},
   "source": [
    "## Problem 1 (Programming Exercises)"
   ]
  },
  {
   "cell_type": "code",
   "execution_count": 6,
   "id": "910e3a13",
   "metadata": {},
   "outputs": [
    {
     "name": "stdout",
     "output_type": "stream",
     "text": [
      "Enter sales for Monday: 10\n",
      "Enter sales for Tuesday: 4\n",
      "Enter sales for Wednesday: 6\n",
      "Enter sales for Thursday: 7\n",
      "Enter sales for Friday: 8\n",
      "Enter sales for Saturday: 7\n",
      "Enter sales for Sunday: 12\n",
      "Total sales for the week: 54.0\n"
     ]
    }
   ],
   "source": [
    "# Start off by initiating a empty list to store sales for everyday of the week\n",
    "sales = []\n",
    "# Enter sales for each day of the week\n",
    "for day in ['Monday', 'Tuesday', 'Wednesday', 'Thursday', 'Friday', 'Saturday', 'Sunday']:\n",
    "    amount = float(input(f\"Enter sales for {day}: \"))\n",
    "    sales.append(amount)\n",
    "# Now we have to calculate the total sales for the week\n",
    "total_sales = sum(sales)\n",
    "# Lastly show the results\n",
    "print(f\"Total sales for the week: {total_sales}\")"
   ]
  },
  {
   "cell_type": "markdown",
   "id": "be355e45",
   "metadata": {},
   "source": [
    "For this code we just had to start off by initiating a empty list to store sales for everyday in the week. We then entered everyday in the week to calculate the amount of sales for the week. Once we had all the info we had to gather information for how many sales we made in a week"
   ]
  }
 ],
 "metadata": {
  "kernelspec": {
   "display_name": "Python 3 (ipykernel)",
   "language": "python",
   "name": "python3"
  },
  "language_info": {
   "codemirror_mode": {
    "name": "ipython",
    "version": 3
   },
   "file_extension": ".py",
   "mimetype": "text/x-python",
   "name": "python",
   "nbconvert_exporter": "python",
   "pygments_lexer": "ipython3",
   "version": "3.10.9"
  }
 },
 "nbformat": 4,
 "nbformat_minor": 5
}
