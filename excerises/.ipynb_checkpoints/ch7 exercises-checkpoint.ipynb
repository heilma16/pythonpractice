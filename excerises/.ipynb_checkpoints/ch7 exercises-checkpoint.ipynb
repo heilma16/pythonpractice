{
 "cells": [
  {
   "cell_type": "markdown",
   "id": "11b5152c",
   "metadata": {},
   "source": [
    "# Chapter 7 Exercises\n",
    "## Problem 2 (Algorithim Workbench)"
   ]
  },
  {
   "cell_type": "code",
   "execution_count": 1,
   "id": "62a494eb",
   "metadata": {},
   "outputs": [
    {
     "name": "stdout",
     "output_type": "stream",
     "text": [
      "['Seaton']\n",
      "['Joey']\n",
      "['Steve']\n",
      "['Tyler']\n"
     ]
    }
   ],
   "source": [
    "names = ['Seaton', 'Joey' , 'Steve' , 'Tyler']\n",
    "\n",
    "for name in names:\n",
    "    print([name])"
   ]
  },
  {
   "cell_type": "markdown",
   "id": "b30dd55a",
   "metadata": {},
   "source": [
    "For this problem all I did was just use a for loop aand named it names. The print name statement made sure to print out the names on a seperate list by using the bracktes."
   ]
  },
  {
   "cell_type": "markdown",
   "id": "a433958e",
   "metadata": {},
   "source": [
    "## Problem 1 (Algortihim Workbench)"
   ]
  },
  {
   "cell_type": "code",
   "execution_count": 5,
   "id": "9cc1cf4e",
   "metadata": {},
   "outputs": [],
   "source": [
    "my_list = ['Einstein', 'Newton', 'Copernicus', 'Kepler']"
   ]
  },
  {
   "cell_type": "markdown",
   "id": "2825b6b1",
   "metadata": {},
   "source": [
    "Im not sure if this one is completley right but for this statment all I did was use square brackets to define my list."
   ]
  },
  {
   "cell_type": "markdown",
   "id": "d6900d24",
   "metadata": {},
   "source": [
    "## Problem 1 (Programming Exercises)"
   ]
  },
  {
   "cell_type": "code",
   "execution_count": 6,
   "id": "ec9c56d9",
   "metadata": {},
   "outputs": [
    {
     "name": "stdout",
     "output_type": "stream",
     "text": [
      "Enter sales for Monday: 10\n",
      "Enter sales for Tuesday: 4\n",
      "Enter sales for Wednesday: 6\n",
      "Enter sales for Thursday: 7\n",
      "Enter sales for Friday: 8\n",
      "Enter sales for Saturday: 7\n",
      "Enter sales for Sunday: 12\n",
      "Total sales for the week: 54.0\n"
     ]
    }
   ],
   "source": [
    "# Start off by initiating a empty list to store sales for everyday of the week\n",
    "sales = []\n",
    "# Enter sales for each day of the week\n",
    "for day in ['Monday', 'Tuesday', 'Wednesday', 'Thursday', 'Friday', 'Saturday', 'Sunday']:\n",
    "    amount = float(input(f\"Enter sales for {day}: \"))\n",
    "    sales.append(amount)\n",
    "# Now we have to calculate the total sales for the week\n",
    "total_sales = sum(sales)\n",
    "# Lastly show the results\n",
    "print(f\"Total sales for the week: {total_sales}\")"
   ]
  },
  {
   "cell_type": "markdown",
   "id": "1eceafc1",
   "metadata": {},
   "source": [
    "For this code we just had to start off by initiating a empty list to store sales for everyday in the week. We then entered everyday in the week to calculate the amount of sales for the week. Once we had all the info we had to gather information for how many sales we made in a week"
   ]
  },
  {
   "cell_type": "markdown",
   "id": "998b6bea",
   "metadata": {},
   "source": [
    "## Problem 14 (Programming Exercises)"
   ]
  },
  {
   "cell_type": "code",
   "execution_count": 10,
   "id": "453c188a",
   "metadata": {},
   "outputs": [
    {
     "ename": "SyntaxError",
     "evalue": "invalid syntax (646141887.py, line 9)",
     "output_type": "error",
     "traceback": [
      "\u001b[1;36m  Cell \u001b[1;32mIn[10], line 9\u001b[1;36m\u001b[0m\n\u001b[1;33m    Car payment\u001b[0m\n\u001b[1;37m        ^\u001b[0m\n\u001b[1;31mSyntaxError\u001b[0m\u001b[1;31m:\u001b[0m invalid syntax\n"
     ]
    }
   ],
   "source": [
    "Rent\n",
    "950\n",
    "Gas\n",
    "150\n",
    "Food\n",
    "600\n",
    "Clothing\n",
    "200\n",
    "Car payment\n",
    "500\n",
    "Misc\n",
    "300\n",
    "import matplotlib.pyplot as plt\n",
    "\n",
    "# Get expense data from the file\n",
    "with open(\"expenses.txt\") as file:\n",
    "    lines = file.read().splitlines()\n",
    "\n",
    "# Separate categories and amount\n",
    "categories = lines[::2]\n",
    "amounts = list(map(float, lines[1::2]))\n",
    "\n",
    "# Now gotta create a pie chart\n",
    "plt.pie(amounts, labels=categories, autopct='%1.1f%%')\n",
    "\n",
    "# Title name\n",
    "plt.title(\"Monthly Expenses\")\n",
    "\n",
    "# Add in Pie chart\n",
    "plt.show()"
   ]
  },
  {
   "cell_type": "markdown",
   "id": "a646f325",
   "metadata": {},
   "source": [
    "First had to create a expense list. Then I incoorperaed the other part of the problem but I'm a little confused what went wrong here."
   ]
  },
  {
   "cell_type": "markdown",
   "id": "e8e9ff01",
   "metadata": {},
   "source": [
    "## Problem 6 (Programming Exercises)"
   ]
  },
  {
   "cell_type": "code",
   "execution_count": null,
   "id": "93ef817d",
   "metadata": {},
   "outputs": [],
   "source": [
    "def display_greater_numbers(numbers, n):"
   ]
  }
 ],
 "metadata": {
  "kernelspec": {
   "display_name": "Python 3 (ipykernel)",
   "language": "python",
   "name": "python3"
  },
  "language_info": {
   "codemirror_mode": {
    "name": "ipython",
    "version": 3
   },
   "file_extension": ".py",
   "mimetype": "text/x-python",
   "name": "python",
   "nbconvert_exporter": "python",
   "pygments_lexer": "ipython3",
   "version": "3.10.9"
  }
 },
 "nbformat": 4,
 "nbformat_minor": 5
}
