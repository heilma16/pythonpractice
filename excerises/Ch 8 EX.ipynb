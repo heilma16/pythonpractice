{
 "cells": [
  {
   "cell_type": "markdown",
   "id": "824e849a",
   "metadata": {},
   "source": [
    "# CH 8 Exercises\n",
    "## Problem 2 (Algorithim Workbench)"
   ]
  },
  {
   "cell_type": "code",
   "execution_count": 1,
   "id": "81e530a9",
   "metadata": {},
   "outputs": [
    {
     "name": "stdout",
     "output_type": "stream",
     "text": [
      "Number of space characters: 1\n"
     ]
    }
   ],
   "source": [
    "my_string = \"Hello, World!\"\n",
    "count = 0\n",
    "for char in my_string:\n",
    "    if char == \" \":\n",
    "        count += 1\n",
    "print(\"Number of space characters:\", count)"
   ]
  },
  {
   "cell_type": "markdown",
   "id": "14a43e5d",
   "metadata": {},
   "source": [
    "For this code I used the count variable to be at 0 so I am able to keep track of the number space characters. the for loop helped by using the my_string. The count will be increasing by 1 because of the char variable. "
   ]
  },
  {
   "cell_type": "markdown",
   "id": "ad79e774",
   "metadata": {},
   "source": [
    "## Problem 3 (Algorithim Workbench)"
   ]
  },
  {
   "cell_type": "code",
   "execution_count": 7,
   "id": "372d9dcb",
   "metadata": {},
   "outputs": [
    {
     "name": "stdout",
     "output_type": "stream",
     "text": [
      "Number of digits: 6\n"
     ]
    }
   ],
   "source": [
    "my_string = \"Seaton123456\"\n",
    "count = 0\n",
    "for char in my_string:\n",
    "    if char.isdigit():\n",
    "        count += 1\n",
    "print(\"Number of digits:\", count)\n"
   ]
  },
  {
   "cell_type": "markdown",
   "id": "8b6db9ef",
   "metadata": {},
   "source": [
    "For this code I used the count variable like the problem above. The only thing that I chnage for this code was the first line for the number of digits and the if char,isdigit. I did this because we had to count the number of digits."
   ]
  },
  {
   "cell_type": "markdown",
   "id": "13cfacb2",
   "metadata": {},
   "source": [
    "## Problem 1 (Programming Exercises)"
   ]
  },
  {
   "cell_type": "code",
   "execution_count": null,
   "id": "fca2dd33",
   "metadata": {},
   "outputs": [],
   "source": [
    "full_name = input(\"Enter your full name: \")\n",
    "# Now we gotta split the full name\n",
    "names = full_name.split()\n",
    "# Now lets get the initials\n",
    "initials = [name[0].upper() + '.' for name in names]\n",
    "# Lastly display initials\n",
    "print('SJH '.join(initials))"
   ]
  },
  {
   "cell_type": "markdown",
   "id": "72a3e14e",
   "metadata": {},
   "source": [
    "Im not sure why this code isn't printing. If someone can help it would be appreciated!!"
   ]
  },
  {
   "cell_type": "markdown",
   "id": "ea63ceb9",
   "metadata": {},
   "source": [
    "## Problem 3 (Programming Exercises)"
   ]
  },
  {
   "cell_type": "code",
   "execution_count": null,
   "id": "6a6d5d5e",
   "metadata": {},
   "outputs": [],
   "source": [
    "date_string = input(\"Enter a date mm/dd/yyyy): 04/06/2004 \")\n",
    "# Split date into month, day, and year\n",
    "month, day, year = date_string.split('/')\n",
    "# Put in all the months\n",
    "month_names = {\n",
    "    '01': 'January',\n",
    "    '02': 'February',\n",
    "    '03': 'March',\n",
    "    '04': 'April',\n",
    "    '05': 'May',\n",
    "    '06': 'June',\n",
    "    '07': 'July',\n",
    "    '08': 'August',\n",
    "    '09': 'September',\n",
    "    '10': 'October',\n",
    "    '11': 'November',\n",
    "    '12': 'December'\n",
    "# format dates as month day, year\n",
    "formatted_date = f\"{month_names[month]} {int(day):d}, {int(year):d}\"\n",
    "# Print the formated date\n",
    "print(formatted_date)"
   ]
  },
  {
   "cell_type": "markdown",
   "id": "00f4bb77",
   "metadata": {},
   "source": [
    "Not sure why it didn't print out the date. "
   ]
  },
  {
   "cell_type": "markdown",
   "id": "f21167db",
   "metadata": {},
   "source": [
    "## Problem 10 (Programming Exercises)"
   ]
  },
  {
   "cell_type": "code",
   "execution_count": null,
   "id": "cd34a4d2",
   "metadata": {},
   "outputs": [],
   "source": [
    "def most_frequent_character(string):\n",
    "\n",
    "    # Create a dictionary to count the frequency of the characters\n",
    "    character_count = {}\n",
    "    # Count frequency of each charater in string\n",
    "    for char in string:\n",
    "        character_count[char] = character_count.get(char, 0) + 1\n",
    "        # Find character with highest frequency\n",
    "    most_frequent_char = max(character_count, key=character_count.get)\n",
    "\n",
    "    return most_frequent_char\n",
    "# Have user enter a string\n",
    "user_input = input(\"Enter a string: \")\n",
    "# Finf most frequent character\n",
    "result = most_frequent_character(user_input)\n",
    "#print most frequent character\n",
    "print(\"Most frequent character:\", result)\n",
    "\n"
   ]
  },
  {
   "cell_type": "markdown",
   "id": "f27dca41",
   "metadata": {},
   "source": [
    "Not sure why none of my problems are coming with results."
   ]
  },
  {
   "cell_type": "markdown",
   "id": "60a57441",
   "metadata": {},
   "source": [
    "## Problem 11 (Programming Exercises)"
   ]
  },
  {
   "cell_type": "code",
   "execution_count": null,
   "id": "1fd8376d",
   "metadata": {},
   "outputs": [],
   "source": [
    "def format_sentence(sentence):\n",
    "    # Convert sentence to lower case\n",
    "    sentence = sentence.lower()\n",
    "    # SPlit sentence into words\n",
    "    words = sentence.split()\n",
    "    # Capatlize first word\n",
    "    words[0] = words[0].capitalize()\n",
    "    # join words with the spaces\n",
    "    formatted_sentence = ' '.join(words)\n",
    "    return formatted_sentence\n",
    "# Have user enter a sentence\n",
    "user_input = input(\"Enter a sentence: I love dogs! \")\n",
    "# Format the senetnce\n",
    "result = format_sentence(user_input)\n",
    "# Lastlt print the sentence\n",
    "print(\"Formatted sentence: I love dogs!\")\n",
    "print(result)\n",
    "\n",
    "        "
   ]
  }
 ],
 "metadata": {
  "kernelspec": {
   "display_name": "Python 3 (ipykernel)",
   "language": "python",
   "name": "python3"
  },
  "language_info": {
   "codemirror_mode": {
    "name": "ipython",
    "version": 3
   },
   "file_extension": ".py",
   "mimetype": "text/x-python",
   "name": "python",
   "nbconvert_exporter": "python",
   "pygments_lexer": "ipython3",
   "version": "3.10.9"
  }
 },
 "nbformat": 4,
 "nbformat_minor": 5
}
