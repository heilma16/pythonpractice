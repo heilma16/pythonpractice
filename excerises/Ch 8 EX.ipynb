{
 "cells": [
  {
   "cell_type": "markdown",
   "id": "00e35b9f",
   "metadata": {},
   "source": [
    "# CH 8 Exercises\n",
    "## Problem 2 (Algorithim Workbench)"
   ]
  },
  {
   "cell_type": "code",
   "execution_count": null,
   "id": "287b6715",
   "metadata": {},
   "outputs": [],
   "source": [
    "my_string = \"Hello, World!\"\n",
    "count = 0"
   ]
  }
 ],
 "metadata": {
  "kernelspec": {
   "display_name": "Python 3 (ipykernel)",
   "language": "python",
   "name": "python3"
  },
  "language_info": {
   "codemirror_mode": {
    "name": "ipython",
    "version": 3
   },
   "file_extension": ".py",
   "mimetype": "text/x-python",
   "name": "python",
   "nbconvert_exporter": "python",
   "pygments_lexer": "ipython3",
   "version": "3.10.9"
  }
 },
 "nbformat": 4,
 "nbformat_minor": 5
}
