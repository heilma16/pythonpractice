{
 "cells": [
  {
   "cell_type": "markdown",
   "id": "b6ae99ed",
   "metadata": {},
   "source": [
    "# CH 8 Exercises\n",
    "## Problem 2 (Algorithim Workbench)"
   ]
  },
  {
   "cell_type": "code",
   "execution_count": 1,
   "id": "9d17783f",
   "metadata": {},
   "outputs": [
    {
     "name": "stdout",
     "output_type": "stream",
     "text": [
      "Number of space characters: 1\n"
     ]
    }
   ],
   "source": [
    "my_string = \"Hello, World!\"\n",
    "count = 0\n",
    "for char in my_string:\n",
    "    if char == \" \":\n",
    "        count += 1\n",
    "print(\"Number of space characters:\", count)"
   ]
  },
  {
   "cell_type": "markdown",
   "id": "26bdc1a9",
   "metadata": {},
   "source": [
    "For this code I used the count variable to be at 0 so I am able to keep track of the number space characters. the for loop helped by using the my_string. The count will be increasing by 1 because of the char variable. "
   ]
  },
  {
   "cell_type": "markdown",
   "id": "f89a88c6",
   "metadata": {},
   "source": [
    "## Problem 3 (Algorithim Workbench)"
   ]
  },
  {
   "cell_type": "code",
   "execution_count": 7,
   "id": "38d82e50",
   "metadata": {},
   "outputs": [
    {
     "name": "stdout",
     "output_type": "stream",
     "text": [
      "Number of digits: 6\n"
     ]
    }
   ],
   "source": [
    "my_string = \"Seaton123456\"\n",
    "count = 0\n",
    "for char in my_string:\n",
    "    if char.isdigit():\n",
    "        count += 1\n",
    "print(\"Number of digits:\", count)\n"
   ]
  },
  {
   "cell_type": "markdown",
   "id": "d08dd907",
   "metadata": {},
   "source": [
    "For this code I used the count variable like the problem above. The only thing that I chnage for this code was the first line for the number of digits and the if char,isdigit. I did this because we had to count the number of digits."
   ]
  },
  {
   "cell_type": "markdown",
   "id": "f2a59abf",
   "metadata": {},
   "source": [
    "## Problem 1 (Programming Exercises)"
   ]
  },
  {
   "cell_type": "code",
   "execution_count": null,
   "id": "92d6448e",
   "metadata": {},
   "outputs": [],
   "source": [
    "full_name = input(\"Enter your full name: \")\n",
    "# Now we gotta split the full name\n",
    "names = full_name.split()\n",
    "# Now lets get the initials\n",
    "initials = [name[0].upper() + '.' for name in names]\n",
    "# Lastly display initials\n",
    "print('SJH '.join(initials))"
   ]
  },
  {
   "cell_type": "markdown",
   "id": "1a400f6f",
   "metadata": {},
   "source": [
    "Im not sure why this code isn't printing. If someone can help it would be appreciated!!"
   ]
  },
  {
   "cell_type": "markdown",
   "id": "9501d6d7",
   "metadata": {},
   "source": [
    "## Problem 3 (Programming Exercises)"
   ]
  },
  {
   "cell_type": "code",
   "execution_count": null,
   "id": "5a72338f",
   "metadata": {},
   "outputs": [],
   "source": [
    "date_string = input(\"Enter a date mm/dd/yyyy): 04/06/2004 \")\n",
    "# Split date into month, day, and year\n",
    "month, day, year = date_string.split('/')\n",
    "# Put in all the months\n",
    "month_names = {\n",
    "    '01': 'January',\n",
    "    '02': 'February',\n",
    "    '03': 'March',\n",
    "    '04': 'April',\n",
    "    '05': 'May',\n",
    "    '06': 'June',\n",
    "    '07': 'July',\n",
    "    '08': 'August',\n",
    "    '09': 'September',\n",
    "    '10': 'October',\n",
    "    '11': 'November',\n",
    "    '12': 'December'\n",
    "# format dates as month day, year\n",
    "formatted_date = f\"{month_names[month]} {int(day):d}, {int(year):d}\"\n",
    "# Print the formated date\n",
    "print(formatted_date)"
   ]
  },
  {
   "cell_type": "markdown",
   "id": "659e22fc",
   "metadata": {},
   "source": [
    "Not sure why it didn't print out the date. "
   ]
  },
  {
   "cell_type": "markdown",
   "id": "13f0d8a6",
   "metadata": {},
   "source": [
    "## Problem 10 (Programming Exercises)"
   ]
  },
  {
   "cell_type": "code",
   "execution_count": null,
   "id": "0703b10f",
   "metadata": {},
   "outputs": [],
   "source": [
    "def most_frequent_character(string):\n",
    "\n",
    "    # Create a dictionary to count the frequency of the characters\n",
    "    character_count = {}\n",
    "    # Count frequency of each charater in string\n",
    "    for char in string:\n",
    "        character_count[char] = character_count.get(char, 0) + 1\n",
    "        \n"
   ]
  }
 ],
 "metadata": {
  "kernelspec": {
   "display_name": "Python 3 (ipykernel)",
   "language": "python",
   "name": "python3"
  },
  "language_info": {
   "codemirror_mode": {
    "name": "ipython",
    "version": 3
   },
   "file_extension": ".py",
   "mimetype": "text/x-python",
   "name": "python",
   "nbconvert_exporter": "python",
   "pygments_lexer": "ipython3",
   "version": "3.10.9"
  }
 },
 "nbformat": 4,
 "nbformat_minor": 5
}
