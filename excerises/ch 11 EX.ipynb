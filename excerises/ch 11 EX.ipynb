{
 "cells": [
  {
   "cell_type": "markdown",
   "id": "3c4a671b",
   "metadata": {},
   "source": [
    "# Ch 11 Ex\n",
    "## Problem 1"
   ]
  },
  {
   "cell_type": "code",
   "execution_count": null,
   "id": "d1c78d2f",
   "metadata": {},
   "outputs": [],
   "source": [
    "class Employee:\n",
    "    def __init__(self):\n",
    "        self.employee_name = \"\"\n",
    "        self.employee_number = \"\" def get_employee_name(self):\n",
    "        return self.employee_name\n",
    "\n",
    "    def set_employee_name(self, name):\n",
    "        self.employee_name = name\n",
    "\n",
    "    def get_employee_number(self):\n",
    "        return self.employee_number\n",
    "\n",
    "    def set_employee_number(self, number):\n",
    "        self.employee_number = number\n",
    "\n",
    "\n",
    "class ShiftEmployee(Employee):\n",
    "    def __init__(self):\n",
    "        super().__init__()\n",
    "        self.shift_number = 0\n",
    "        self.hourly_pay_rate = 0.0\n",
    "    def get_shift_number(self):\n",
    "        return self.shift_number\n",
    "\n",
    "    def set_shift_number(self, shift):\n",
    "        self.shift_number = shift\n",
    "\n",
    "    def get_hourly_pay_rate(self):\n",
    "        return self.hourly_pay_rate\n",
    "\n",
    "    def set_hourly_pay_rate(self, pay_rate):\n",
    "        self.hourly_pay_rate = pay_rate"
   ]
  },
  {
   "cell_type": "code",
   "execution_count": null,
   "id": "01c078c0",
   "metadata": {},
   "outputs": [],
   "source": [
    "if __name__ == \"__main__\":\n",
    "    emp = ShiftEmployee()\n",
    "\n",
    "    # Get data from the user\n",
    "    emp.set_employee_name(input(\"Enter employee name: Seaton\"))\n",
    "    emp.set_employee_number(input(\"Enter employee number: 5864958502\"))\n",
    "    emp.set_shift_number(int(input(\"Enter shift number (1 for day shift, 2 for night shift): \")))\n",
    "    emp.set_hourly_pay_rate(float(input(\"Enter hourly pay rate: $50\")))\n",
    "\n",
    "    # Display the entered data using accessor methods\n",
    "    print(\"\\nEmployee Information:\")\n",
    "    print(\"Employee Name:\", emp.get_employee_name())\n",
    "    print(\"Employee Number:\", emp.get_employee_number())\n",
    "    shift = \"Day Shift\" if emp.get_shift_number() == 1 else \"Night Shift\"\n",
    "    print(\"Shift:\", shift)\n",
    "    print(\"Hourly Pay Rate:\", emp.get_hourly_pay_rate())"
   ]
  },
  {
   "cell_type": "markdown",
   "id": "3f2f9520",
   "metadata": {},
   "source": [
    "## Problem 3"
   ]
  },
  {
   "cell_type": "code",
   "execution_count": null,
   "id": "fbd1162b",
   "metadata": {},
   "outputs": [],
   "source": [
    "class Person:\n",
    "    def __init__(self, name, address, telephone_number):\n",
    "        self.name = name\n",
    "        self.address = address\n",
    "        self.telephone_number = telephone_number\n",
    "\n",
    "    def __str__(self):\n",
    "        return f\"Name: {self.name}\\nAddress: {self.address}\\nTelephone Number: {self.telephone_number}\"\n"
   ]
  }
 ],
 "metadata": {
  "kernelspec": {
   "display_name": "Python 3 (ipykernel)",
   "language": "python",
   "name": "python3"
  },
  "language_info": {
   "codemirror_mode": {
    "name": "ipython",
    "version": 3
   },
   "file_extension": ".py",
   "mimetype": "text/x-python",
   "name": "python",
   "nbconvert_exporter": "python",
   "pygments_lexer": "ipython3",
   "version": "3.10.9"
  }
 },
 "nbformat": 4,
 "nbformat_minor": 5
}
