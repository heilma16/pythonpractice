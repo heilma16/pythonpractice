{
 "cells": [
  {
   "cell_type": "markdown",
   "id": "a59c200e",
   "metadata": {},
   "source": [
    "# Ch 11 Ex\n",
    "## Problem 1"
   ]
  },
  {
   "cell_type": "code",
   "execution_count": null,
   "id": "f6d4d6ca",
   "metadata": {},
   "outputs": [],
   "source": [
    "class Employee:\n",
    "    def __init__(self):\n",
    "        self.employee_name = \"\"\n",
    "        self.employee_number = \"\" def get_employee_name(self):\n",
    "        return self.employee_name\n",
    "\n",
    "    def set_employee_name(self, name):\n",
    "        self.employee_name = name\n",
    "\n",
    "    def get_employee_number(self):\n",
    "        return self.employee_number\n",
    "\n",
    "    def set_employee_number(self, number):\n",
    "        self.employee_number = number\n",
    "\n",
    "\n",
    "class ShiftEmployee(Employee):\n",
    "    def __init__(self):\n",
    "        super().__init__()\n",
    "        self.shift_number = 0\n",
    "        self.hourly_pay_rate = 0.0\n",
    "    def get_shift_number(self):\n",
    "        return self.shift_number\n",
    "\n",
    "    def set_shift_number(self, shift):\n",
    "        self.shift_number = shift\n",
    "\n",
    "    def get_hourly_pay_rate(self):\n",
    "        return self.hourly_pay_rate\n",
    "\n",
    "    def set_hourly_pay_rate(self, pay_rate):\n",
    "        self.hourly_pay_rate = pay_rate"
   ]
  },
  {
   "cell_type": "code",
   "execution_count": null,
   "id": "e1d3d39c",
   "metadata": {},
   "outputs": [],
   "source": [
    "if __name__ == \"__main__\":\n",
    "    emp = ShiftEmployee()\n",
    "\n",
    "    # Collect the data\n",
    "    emp.set_employee_name(input(\"Enter employee name: Seaton\"))\n",
    "    emp.set_employee_number(input(\"Enter employee number: 5864958502\"))\n",
    "    emp.set_shift_number(int(input(\"Enter shift number (1 for day shift, 2 for night shift): \")))\n",
    "    emp.set_hourly_pay_rate(float(input(\"Enter hourly pay rate: $50\")))\n",
    "\n",
    "    # Print info\n",
    "    print(\"\\nEmployee Information:\")\n",
    "    print(\"Employee Name:\", emp.get_employee_name())\n",
    "    print(\"Employee Number:\", emp.get_employee_number())\n",
    "    shift = \"Day Shift\" if emp.get_shift_number() == 1 else \"Night Shift\"\n",
    "    print(\"Shift:\", shift)\n",
    "    print(\"Hourly Pay Rate:\", emp.get_hourly_pay_rate())"
   ]
  },
  {
   "cell_type": "markdown",
   "id": "a3d19803",
   "metadata": {},
   "source": [
    "## Problem 3"
   ]
  },
  {
   "cell_type": "code",
   "execution_count": null,
   "id": "ddf530f8",
   "metadata": {},
   "outputs": [],
   "source": [
    "class Person:\n",
    "    def __init__(self, name, address, telephone_number):\n",
    "        self.name = name\n",
    "        self.address = address\n",
    "        self.telephone_number = telephone_number\n",
    "\n",
    "    def __str__(self):\n",
    "        return f\"Name: {self.name}\\nAddress: {self.address}\\nTelephone Number: {self.telephone_number}\"\n",
    "class Customer(Person):\n",
    "    def __init__(self, name, address, telephone_number, customer_number, mailing_list):\n",
    "        super().__init__(name, address, telephone_number)\n",
    "        self.customer_number = customer_number\n",
    "        self.mailing_list = mailing_list\n",
    "\n",
    "    def __str__(self):\n",
    "        mailing_list_status = \"Yes\" if self.mailing_list else \"No\"\n",
    "        return super().__str__() + f\"\\nCustomer Number: {self.customer_number}\\nWants to be on Mailing List: {mailing_list_status}\"\n"
   ]
  }
 ],
 "metadata": {
  "kernelspec": {
   "display_name": "Python 3 (ipykernel)",
   "language": "python",
   "name": "python3"
  },
  "language_info": {
   "codemirror_mode": {
    "name": "ipython",
    "version": 3
   },
   "file_extension": ".py",
   "mimetype": "text/x-python",
   "name": "python",
   "nbconvert_exporter": "python",
   "pygments_lexer": "ipython3",
   "version": "3.10.9"
  }
 },
 "nbformat": 4,
 "nbformat_minor": 5
}
