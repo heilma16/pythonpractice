{
 "cells": [
  {
   "cell_type": "markdown",
   "id": "07810e4b",
   "metadata": {},
   "source": [
    "# Ch 11 Ex\n",
    "## Problem 1"
   ]
  },
  {
   "cell_type": "code",
   "execution_count": null,
   "id": "cd1c2348",
   "metadata": {},
   "outputs": [],
   "source": [
    "class Employee:\n",
    "    def __init__(self):\n",
    "        self.employee_name = \"\"\n",
    "        self.employee_number = \"\" def get_employee_name(self):\n",
    "        return self.employee_name\n",
    "\n",
    "    def set_employee_name(self, name):\n",
    "        self.employee_name = name\n",
    "\n",
    "    def get_employee_number(self):\n",
    "        return self.employee_number\n",
    "\n",
    "    def set_employee_number(self, number):\n",
    "        self.employee_number = number\n",
    "\n",
    "\n",
    "class ShiftEmployee(Employee):\n",
    "    def __init__(self):\n",
    "        super().__init__()\n",
    "        self.shift_number = 0\n",
    "        self.hourly_pay_rate = 0.0\n",
    "    def get_shift_number(self):\n",
    "        return self.shift_number\n",
    "\n",
    "    def set_shift_number(self, shift):\n",
    "        self.shift_number = shift\n",
    "\n",
    "    def get_hourly_pay_rate(self):\n",
    "        return self.hourly_pay_rate\n",
    "\n",
    "    def set_hourly_pay_rate(self, pay_rate):\n",
    "        self.hourly_pay_rate = pay_rate"
   ]
  },
  {
   "cell_type": "code",
   "execution_count": 2,
   "id": "1bccc5d6",
   "metadata": {},
   "outputs": [
    {
     "ename": "NameError",
     "evalue": "name 'ShiftEmployee' is not defined",
     "output_type": "error",
     "traceback": [
      "\u001b[1;31m---------------------------------------------------------------------------\u001b[0m",
      "\u001b[1;31mNameError\u001b[0m                                 Traceback (most recent call last)",
      "Cell \u001b[1;32mIn[2], line 2\u001b[0m\n\u001b[0;32m      1\u001b[0m \u001b[38;5;28;01mif\u001b[39;00m \u001b[38;5;18m__name__\u001b[39m \u001b[38;5;241m==\u001b[39m \u001b[38;5;124m\"\u001b[39m\u001b[38;5;124m__main__\u001b[39m\u001b[38;5;124m\"\u001b[39m:\n\u001b[1;32m----> 2\u001b[0m     emp \u001b[38;5;241m=\u001b[39m \u001b[43mShiftEmployee\u001b[49m()\n\u001b[0;32m      3\u001b[0m \u001b[38;5;66;03m# Start to collect data\u001b[39;00m\n\u001b[0;32m      4\u001b[0m     emp\u001b[38;5;241m.\u001b[39mset_employee_name(\u001b[38;5;28minput\u001b[39m(\u001b[38;5;124m\"\u001b[39m\u001b[38;5;124mSeaton: Seaton Heilman \u001b[39m\u001b[38;5;124m\"\u001b[39m))\n",
      "\u001b[1;31mNameError\u001b[0m: name 'ShiftEmployee' is not defined"
     ]
    }
   ],
   "source": [
    "if __name__ == \"__main__\":\n",
    "    emp = ShiftEmployee()\n",
    "# Start to collect data\n",
    "    emp.set_employee_name(input(\"Enter Employee name: Seaton Heilman \"))\n",
    "    emp.set_employee_number(input(\"Enter employee number: 586-495-8502 \"))\n",
    "    emp.set_shift_number(int(input(\"Enter shift number (1 for day shift, 2 for night shift): \")))\n",
    "    emp.set_hourly_pay_rate(float(input(\"Enter hourly pay rate: $50 \")))\n",
    "    # Print everything out\n",
    "    print(\"\\nEmployee Information:\")\n",
    "    print(\"Employee Name:\", emp.get_employee_name())\n",
    "    print(\"Employee Number:\", emp.get_employee_number())\n",
    "    shift = \"Day Shift\" if emp.get_shift_number() == 1 else \"Night Shift\"\n",
    "    print(\"Shift:\", shift)\n",
    "    print(\"Hourly Pay Rate:\", emp.get_hourly_pay_rate())"
   ]
  }
 ],
 "metadata": {
  "kernelspec": {
   "display_name": "Python 3 (ipykernel)",
   "language": "python",
   "name": "python3"
  },
  "language_info": {
   "codemirror_mode": {
    "name": "ipython",
    "version": 3
   },
   "file_extension": ".py",
   "mimetype": "text/x-python",
   "name": "python",
   "nbconvert_exporter": "python",
   "pygments_lexer": "ipython3",
   "version": "3.10.9"
  }
 },
 "nbformat": 4,
 "nbformat_minor": 5
}
