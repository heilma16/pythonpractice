{
 "cells": [
  {
   "cell_type": "markdown",
   "id": "74dffa9d",
   "metadata": {},
   "source": [
    "# Ch 6 Exercises"
   ]
  },
  {
   "cell_type": "markdown",
   "id": "c9ca6646",
   "metadata": {},
   "source": [
    "## Problem 3"
   ]
  },
  {
   "cell_type": "markdown",
   "id": "374f3c35",
   "metadata": {},
   "source": [
    "Write code that does the following: opens an output file with the filename number_ list.txt, uses a loop to write the numbers 1 through 100 to the file, then closes the file."
   ]
  },
  {
   "cell_type": "code",
   "execution_count": 2,
   "id": "b576128e",
   "metadata": {},
   "outputs": [
    {
     "name": "stdout",
     "output_type": "stream",
     "text": [
      "Numbers written ti file succesfully\n"
     ]
    }
   ],
   "source": [
    "# Start out by opening an output\n",
    "def write_numbers_to_file(file_name):\n",
    "    try:\n",
    "# Open the file in write mode\n",
    "        with open(file_name, 'w') as file:\n",
    "# Write numbers 1 to 100 with the file        \n",
    "           for number in range(1,101):\n",
    "               file.write(str(number) + '\\n')\n",
    "        print(\"Numbers written ti file succesfully\")\n",
    "    except IOError:\n",
    "        print(\"Error: Unable to write to the file.\")\n",
    "# Now we have to provide file name\n",
    "file_name = \"number_list.txt\"\n",
    "# Call the function to write numbers to the file\n",
    "write_numbers_to_file(file_name)\n",
    "\n",
    "        "
   ]
  },
  {
   "cell_type": "markdown",
   "id": "66e2058e",
   "metadata": {},
   "source": [
    "So for this code the write numbers to file function takes the file name as an argument. What I did to open the file was use with. The 1,100 are written to the file using the write statement. If a error occured an error message will be displayed. "
   ]
  },
  {
   "cell_type": "markdown",
   "id": "f76d0085",
   "metadata": {},
   "source": [
    "## Problem 1"
   ]
  },
  {
   "cell_type": "markdown",
   "id": "f53a5c36",
   "metadata": {},
   "source": [
    "Write a program that opens an output file with the filename my_name.txt, writes your name to the file, then closes the file."
   ]
  },
  {
   "cell_type": "code",
   "execution_count": 6,
   "id": "9624be8f",
   "metadata": {},
   "outputs": [
    {
     "name": "stdout",
     "output_type": "stream",
     "text": [
      "Name written to file succesfully.\n"
     ]
    }
   ],
   "source": [
    "# Start off the same as the problem above\n",
    "def write_numbers_to_file(file_name):\n",
    "    try:\n",
    "#Open file in write mode        \n",
    "        file = open(file_name,'w')\n",
    "# Write the name to the file\n",
    "        file.write(name)\n",
    "# Close the file\n",
    "        file.close()\n",
    "        print(\"Name written to file succesfully.\")\n",
    "    except IOError:\n",
    "        print(\"Error: Unable to write to the file.\")\n",
    "# Provide file name and the name to be written\n",
    "file_name = \"my_name.txt\"\n",
    "name = \"Seaton Heilman\"\n",
    "#Call the function to write the name to the file\n",
    "write_numbers_to_file(file_name)"
   ]
  },
  {
   "cell_type": "markdown",
   "id": "8ac71530",
   "metadata": {},
   "source": [
    "For the most part it was like the code above. But some of the other thing that I did was just use the write method and the close method."
   ]
  },
  {
   "cell_type": "markdown",
   "id": "4d077079",
   "metadata": {},
   "source": [
    "## Problem 1 (Programming Exercises)"
   ]
  },
  {
   "cell_type": "markdown",
   "id": "aa280dc1",
   "metadata": {},
   "source": [
    "Assume a file containing a series of integers is named numbers.txt and exists on the computer’s disk. Write a program that displays all of the numbers in the file."
   ]
  },
  {
   "cell_type": "code",
   "execution_count": 7,
   "id": "74bf5c7e",
   "metadata": {},
   "outputs": [
    {
     "name": "stdout",
     "output_type": "stream",
     "text": [
      "Error: Unable to read the file.\n"
     ]
    }
   ],
   "source": [
    "def display_numbers_from_file(file_name):\n",
    "    try:\n",
    "# Open the file in read mode\n",
    "        with open(file_name, 'r') as file:\n",
    "# Read all lines from the file\n",
    "            lines = file.readlines()\n",
    "# Process each line and display the numbers\n",
    "        for line in lines:\n",
    "            # Remove leading/trailing whitespace and convert to integer\n",
    "            number = int(line.strip())\n",
    "            print(number)\n",
    "        print(\"Numbers displayed successfully.\")\n",
    "    except IOError:\n",
    "        print(\"Error: Unable to read the file.\")\n",
    "# Provide the file name\n",
    "file_name = \"numbers.txt\"\n",
    "\n",
    "# Call the function to display the numbers from the file\n",
    "display_numbers_from_file(file_name)"
   ]
  },
  {
   "cell_type": "markdown",
   "id": "375e6087",
   "metadata": {},
   "source": [
    "So it said unable to read file im not sure what I did wrong here."
   ]
  },
  {
   "cell_type": "markdown",
   "id": "08e3317b",
   "metadata": {},
   "source": [
    "## Problem 6 (Programming Exercises)"
   ]
  },
  {
   "cell_type": "code",
   "execution_count": 8,
   "id": "c3885a8d",
   "metadata": {},
   "outputs": [
    {
     "name": "stdout",
     "output_type": "stream",
     "text": [
      "Error: Unable to read the file.\n"
     ]
    }
   ],
   "source": [
    "def calculate_average_from_file(file_name):\n",
    "    try:\n",
    "        # Open the file in read mode\n",
    "        with open(file_name, 'r') as file:\n",
    "            # Read all lines from the file\n",
    "            lines = file.readlines()\n",
    "        \n",
    "        # Convert lines to a list of integers\n",
    "        numbers = [int(line.strip()) for line in lines]\n",
    "        \n",
    "        # Calculate the average\n",
    "        average = sum(numbers) / len(numbers)\n",
    "        \n",
    "        print(\"Average calculated successfully.\")\n",
    "        return average\n",
    "    except IOError:\n",
    "        print(\"Error: Unable to read the file.\")\n",
    "\n",
    "# Provide the file name\n",
    "file_name = \"numbers.txt\"\n",
    "\n",
    "# Call the function to calculate the average from the file\n",
    "average = calculate_average_from_file(file_name)\n",
    "\n",
    "# Display the calculated average\n",
    "if average is not None:\n",
    "    print(f\"The average of the numbers is: {average}\")"
   ]
  },
  {
   "cell_type": "markdown",
   "id": "46dc83c3",
   "metadata": {},
   "source": [
    "I am not sure why it said unable to read file but what I did was. For this program we started off with the calculate average from file function and take the file name as an argument. We started off the file in read mode using the with statement and it will read all the lines. I then calculated the average of numbers by using the sum function and dividing by the length of the numbers. "
   ]
  },
  {
   "cell_type": "markdown",
   "id": "f3520dd4",
   "metadata": {},
   "source": [
    "## Problem 9 (Programming Exercisess)"
   ]
  },
  {
   "cell_type": "markdown",
   "id": "a4a06c52",
   "metadata": {},
   "source": [
    "Modify the program that you wrote for Exercise 6 so it handles the following exceptions:\n",
    "It should handle any IOError exceptions that are raised when the file is opened and data is read from it.\n",
    "It should handle any ValueError exceptions that are raised when the items that are read from the file are converted to a number."
   ]
  },
  {
   "cell_type": "code",
   "execution_count": 9,
   "id": "be5322a7",
   "metadata": {},
   "outputs": [
    {
     "name": "stdout",
     "output_type": "stream",
     "text": [
      "Error: Unable to read the file.\n"
     ]
    }
   ],
   "source": [
    "# Start off as the same from before\n",
    "def calculate_average_from_file(file_name):\n",
    "    try:\n",
    "        # Open the file in read mode\n",
    "        with open(file_name, 'r') as file:\n",
    "            # Read all lines from the file\n",
    "            lines = file.readlines()\n",
    "            # Convert lines to a list of integers\n",
    "        numbers = []\n",
    "        for line in lines:\n",
    "            try:\n",
    "                number = int(line.strip())\n",
    "                numbers.append(number)\n",
    "            except ValueError:\n",
    "                print(f\"Error: Unable to convert line '{line.strip()}' to a number.\")\n",
    "        # Calculate the average if there are valid numbers\n",
    "        if numbers:\n",
    "            average = sum(numbers) / len(numbers)\n",
    "            print(\"Average calculated successfully.\")\n",
    "            return average\n",
    "        else:\n",
    "            print(\"No valid numbers found in the file.\")\n",
    "\n",
    "    except IOError:\n",
    "        print(\"Error: Unable to read the file.\")\n",
    "# Provide the file name\n",
    "file_name = \"numbers.txt\"\n",
    "\n",
    "# Call the function to calculate the average from the file\n",
    "average = calculate_average_from_file(file_name)\n",
    "\n",
    "# Display the calculated average\n",
    "if average is not None:\n",
    "    print(f\"The average of the numbers is: {average}\")"
   ]
  },
  {
   "cell_type": "markdown",
   "id": "bae3bdcc",
   "metadata": {},
   "source": [
    "So we first started off how we been starting off. For each line it is being converted to an integer using the int fucntion and if a value error message is displayed and error message will pop up. If valid numbers are found in the file, the average is calculated and returned as before. If no valid numbers are found a message will be printed. "
   ]
  },
  {
   "cell_type": "markdown",
   "id": "58342987",
   "metadata": {},
   "source": [
    "## Problem 2 (Programming Exercises)"
   ]
  },
  {
   "cell_type": "markdown",
   "id": "216a922b",
   "metadata": {},
   "source": [
    "Write a program that asks the user for the name of a file. The program should display the contents of the file with each line preceded with a line number followed by a colon. The line numbering should start at 1."
   ]
  },
  {
   "cell_type": "code",
   "execution_count": null,
   "id": "e9b4c14a",
   "metadata": {},
   "outputs": [],
   "source": [
    "def display_file_with_line_numbers(file_name):\n",
    "    try:\n",
    "        # Open the file in read mode\n",
    "        with open(file_name, 'r') as file:\n",
    "            # Read all lines from the file\n",
    "            lines = file.readlines()\n"
   ]
  }
 ],
 "metadata": {
  "kernelspec": {
   "display_name": "Python 3 (ipykernel)",
   "language": "python",
   "name": "python3"
  },
  "language_info": {
   "codemirror_mode": {
    "name": "ipython",
    "version": 3
   },
   "file_extension": ".py",
   "mimetype": "text/x-python",
   "name": "python",
   "nbconvert_exporter": "python",
   "pygments_lexer": "ipython3",
   "version": "3.10.9"
  }
 },
 "nbformat": 4,
 "nbformat_minor": 5
}
