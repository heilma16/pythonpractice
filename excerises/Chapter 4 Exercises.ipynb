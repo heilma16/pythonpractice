{
 "cells": [
  {
   "cell_type": "markdown",
   "id": "6bec567f",
   "metadata": {},
   "source": [
    "# Chapter 4 Exercises\n",
    "\n",
    "## Problem 3 (Algorithim Workbench)"
   ]
  },
  {
   "cell_type": "markdown",
   "id": "f2d59f7d",
   "metadata": {},
   "source": [
    "Write a for loop that displays the following set of numbers:\n",
    "0, 10, 20, 30, 40, 50, . . . 1000"
   ]
  },
  {
   "cell_type": "code",
   "execution_count": null,
   "id": "1d34f263",
   "metadata": {},
   "outputs": [],
   "source": []
  }
 ],
 "metadata": {
  "kernelspec": {
   "display_name": "Python 3 (ipykernel)",
   "language": "python",
   "name": "python3"
  },
  "language_info": {
   "codemirror_mode": {
    "name": "ipython",
    "version": 3
   },
   "file_extension": ".py",
   "mimetype": "text/x-python",
   "name": "python",
   "nbconvert_exporter": "python",
   "pygments_lexer": "ipython3",
   "version": "3.10.9"
  }
 },
 "nbformat": 4,
 "nbformat_minor": 5
}
