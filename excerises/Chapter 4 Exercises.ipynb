{
 "cells": [
  {
   "cell_type": "markdown",
   "id": "3bcc240f",
   "metadata": {},
   "source": [
    "# Chapter 4 Exercises\n",
    "\n",
    "## Problem 3 (Algorithim Workbench)"
   ]
  },
  {
   "cell_type": "markdown",
   "id": "84ab243b",
   "metadata": {},
   "source": [
    "Write a for loop that displays the following set of numbers:\n",
    "0, 10, 20, 30, 40, 50, . . . 1000"
   ]
  },
  {
   "cell_type": "code",
   "execution_count": 1,
   "id": "89b07e2b",
   "metadata": {},
   "outputs": [
    {
     "name": "stdout",
     "output_type": "stream",
     "text": [
      "0\n",
      "10\n",
      "20\n",
      "30\n",
      "40\n",
      "50\n",
      "60\n",
      "70\n",
      "80\n",
      "90\n",
      "100\n",
      "110\n",
      "120\n",
      "130\n",
      "140\n",
      "150\n",
      "160\n",
      "170\n",
      "180\n",
      "190\n",
      "200\n",
      "210\n",
      "220\n",
      "230\n",
      "240\n",
      "250\n",
      "260\n",
      "270\n",
      "280\n",
      "290\n",
      "300\n",
      "310\n",
      "320\n",
      "330\n",
      "340\n",
      "350\n",
      "360\n",
      "370\n",
      "380\n",
      "390\n",
      "400\n",
      "410\n",
      "420\n",
      "430\n",
      "440\n",
      "450\n",
      "460\n",
      "470\n",
      "480\n",
      "490\n",
      "500\n",
      "510\n",
      "520\n",
      "530\n",
      "540\n",
      "550\n",
      "560\n",
      "570\n",
      "580\n",
      "590\n",
      "600\n",
      "610\n",
      "620\n",
      "630\n",
      "640\n",
      "650\n",
      "660\n",
      "670\n",
      "680\n",
      "690\n",
      "700\n",
      "710\n",
      "720\n",
      "730\n",
      "740\n",
      "750\n",
      "760\n",
      "770\n",
      "780\n",
      "790\n",
      "800\n",
      "810\n",
      "820\n",
      "830\n",
      "840\n",
      "850\n",
      "860\n",
      "870\n",
      "880\n",
      "890\n",
      "900\n",
      "910\n",
      "920\n",
      "930\n",
      "940\n",
      "950\n",
      "960\n",
      "970\n",
      "980\n",
      "990\n",
      "1000\n"
     ]
    }
   ],
   "source": [
    "for i in range (0,1001,10):\n",
    "    print(i)"
   ]
  },
  {
   "cell_type": "markdown",
   "id": "802135e2",
   "metadata": {},
   "source": [
    "What I did here was just start at 0 and keep increasing by 10 by using the for loop and using the range from 0-1000"
   ]
  },
  {
   "cell_type": "markdown",
   "id": "8f15d41b",
   "metadata": {},
   "source": [
    "## Problem 1(Algorithim WorkBench)"
   ]
  },
  {
   "cell_type": "markdown",
   "id": "15f27618",
   "metadata": {},
   "source": [
    "Write a while loop that lets the user enter a number. The number should be multiplied by 10, and the result assigned to a variable named product. The loop should iterate as long as product is less than 100."
   ]
  },
  {
   "cell_type": "code",
   "execution_count": 2,
   "id": "c9e8c978",
   "metadata": {},
   "outputs": [
    {
     "name": "stdout",
     "output_type": "stream",
     "text": [
      "Enter a number: 10\n",
      "Prodcut is now equal to or greater than 100. Exiting the loop\n"
     ]
    }
   ],
   "source": [
    "#We are first going to introduce the product variable as 0\n",
    "product = 0\n",
    "#Now we have to initialize that it will be less than 0.\n",
    "while product < 100:\n",
    "    number = float(input(\"Enter a number: \"))\n",
    "#What we did there was prompt the user to enter a number\n",
    "#Now we are going to multiply the number by 10 and assign the result to product\n",
    "    product = number * 10\n",
    "    \n",
    "    if product < 100:\n",
    "        print(\"Product:\", prodcut)\n",
    "print(\"Prodcut is now equal to or greater than 100. Exiting the loop\")"
   ]
  },
  {
   "cell_type": "raw",
   "id": "e284294c",
   "metadata": {},
   "source": [
    "What we did for this is we made sure that it was always less than where it shows product < 100. We were prompted to enter a number, then it being multiplied by 10 which is assignd to the product. If the product was still less than 100 it will be printed If it becomes greater than 100, the loop will not be printed."
   ]
  },
  {
   "cell_type": "markdown",
   "id": "83df8fc1",
   "metadata": {},
   "source": [
    "## Problem 4 (Algorithim Workbench)"
   ]
  },
  {
   "cell_type": "markdown",
   "id": "5eef0390",
   "metadata": {},
   "source": [
    "Write a loop that asks the user to enter a number. The loop should iterate 10 times and keep a running total of the numbers entered."
   ]
  },
  {
   "cell_type": "code",
   "execution_count": null,
   "id": "5e55d1e8",
   "metadata": {},
   "outputs": [],
   "source": [
    "# First start off to get the running total\n",
    "total = 0\n",
    "for i in range(10):\n",
    "#Now lets prompt the user to enter a number \n",
    "    number = float(input(\"Enter a number:\"))\n",
    "#Now add the entered number to running total\n",
    "    total+= number\n",
    "#Lastly print the total\n",
    "print(\"The total is:\")"
   ]
  },
  {
   "cell_type": "markdown",
   "id": "c0542259",
   "metadata": {},
   "source": [
    "Im not sure why it isn't running if someone can let me know what is wrong it would be appreciated.\n",
    "\n",
    "But for what I did in this problem was just creating a loop for it to iterate 10 times using the range function. "
   ]
  },
  {
   "cell_type": "markdown",
   "id": "f965720a",
   "metadata": {},
   "source": [
    "## Problem 11 (Weight Loss)"
   ]
  },
  {
   "cell_type": "code",
   "execution_count": null,
   "id": "68d14187",
   "metadata": {},
   "outputs": [],
   "source": [
    "If a moderately active person cuts their calorie intake by 500 calories a day, they can typically lose about 4 pounds a month. Write a program that lets the user enter their starting weight, then creates and displays a table showing what their expected weight will be at the end of each month for the next 6 months if they stay on this diet."
   ]
  },
  {
   "cell_type": "code",
   "execution_count": null,
   "id": "9ec1de95",
   "metadata": {},
   "outputs": [],
   "source": [
    "# First start off by having the user enter there weight\n",
    "starting_weight = float(input"
   ]
  }
 ],
 "metadata": {
  "kernelspec": {
   "display_name": "Python 3 (ipykernel)",
   "language": "python",
   "name": "python3"
  },
  "language_info": {
   "codemirror_mode": {
    "name": "ipython",
    "version": 3
   },
   "file_extension": ".py",
   "mimetype": "text/x-python",
   "name": "python",
   "nbconvert_exporter": "python",
   "pygments_lexer": "ipython3",
   "version": "3.10.9"
  }
 },
 "nbformat": 4,
 "nbformat_minor": 5
}
