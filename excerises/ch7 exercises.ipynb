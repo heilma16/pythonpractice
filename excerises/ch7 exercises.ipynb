{
 "cells": [
  {
   "cell_type": "markdown",
   "id": "509f512e",
   "metadata": {},
   "source": [
    "# Chapter 7 Exercises\n",
    "## Problem 2 (Algorithim Workbench)"
   ]
  },
  {
   "cell_type": "code",
   "execution_count": 1,
   "id": "1ef4fd1a",
   "metadata": {},
   "outputs": [
    {
     "name": "stdout",
     "output_type": "stream",
     "text": [
      "['Seaton']\n",
      "['Joey']\n",
      "['Steve']\n",
      "['Tyler']\n"
     ]
    }
   ],
   "source": [
    "names = ['Seaton', 'Joey' , 'Steve' , 'Tyler']\n",
    "\n",
    "for name in names:\n",
    "    print([name])"
   ]
  },
  {
   "cell_type": "markdown",
   "id": "3b24a232",
   "metadata": {},
   "source": [
    "For this problem all I did was just use a for loop aand named it names. The print name statement made sure to print out the names on a seperate list by using the bracktes."
   ]
  },
  {
   "cell_type": "markdown",
   "id": "0c9c84f3",
   "metadata": {},
   "source": [
    "## Problem 1 (Algortihim Workbench)"
   ]
  },
  {
   "cell_type": "code",
   "execution_count": 5,
   "id": "aca8fef7",
   "metadata": {},
   "outputs": [],
   "source": [
    "my_list = ['Einstein', 'Newton', 'Copernicus', 'Kepler']"
   ]
  },
  {
   "cell_type": "markdown",
   "id": "306b72f3",
   "metadata": {},
   "source": [
    "Im not sure if this one is completley right but for this statment all I did was use square brackets to define my list."
   ]
  },
  {
   "cell_type": "markdown",
   "id": "9201c94b",
   "metadata": {},
   "source": [
    "## Problem 1 (Programming Exercises)"
   ]
  },
  {
   "cell_type": "code",
   "execution_count": 6,
   "id": "80c1f427",
   "metadata": {},
   "outputs": [
    {
     "name": "stdout",
     "output_type": "stream",
     "text": [
      "Enter sales for Monday: 10\n",
      "Enter sales for Tuesday: 4\n",
      "Enter sales for Wednesday: 6\n",
      "Enter sales for Thursday: 7\n",
      "Enter sales for Friday: 8\n",
      "Enter sales for Saturday: 7\n",
      "Enter sales for Sunday: 12\n",
      "Total sales for the week: 54.0\n"
     ]
    }
   ],
   "source": [
    "# Start off by initiating a empty list to store sales for everyday of the week\n",
    "sales = []\n",
    "# Enter sales for each day of the week\n",
    "for day in ['Monday', 'Tuesday', 'Wednesday', 'Thursday', 'Friday', 'Saturday', 'Sunday']:\n",
    "    amount = float(input(f\"Enter sales for {day}: \"))\n",
    "    sales.append(amount)\n",
    "# Now we have to calculate the total sales for the week\n",
    "total_sales = sum(sales)\n",
    "# Lastly show the results\n",
    "print(f\"Total sales for the week: {total_sales}\")"
   ]
  },
  {
   "cell_type": "markdown",
   "id": "064390c6",
   "metadata": {},
   "source": [
    "For this code we just had to start off by initiating a empty list to store sales for everyday in the week. We then entered everyday in the week to calculate the amount of sales for the week. Once we had all the info we had to gather information for how many sales we made in a week"
   ]
  },
  {
   "cell_type": "markdown",
   "id": "c47535e5",
   "metadata": {},
   "source": [
    "## Problem 14 (Programming Exercises)"
   ]
  },
  {
   "cell_type": "code",
   "execution_count": 10,
   "id": "ae324044",
   "metadata": {},
   "outputs": [
    {
     "ename": "SyntaxError",
     "evalue": "invalid syntax (646141887.py, line 9)",
     "output_type": "error",
     "traceback": [
      "\u001b[1;36m  Cell \u001b[1;32mIn[10], line 9\u001b[1;36m\u001b[0m\n\u001b[1;33m    Car payment\u001b[0m\n\u001b[1;37m        ^\u001b[0m\n\u001b[1;31mSyntaxError\u001b[0m\u001b[1;31m:\u001b[0m invalid syntax\n"
     ]
    }
   ],
   "source": [
    "Rent\n",
    "950\n",
    "Gas\n",
    "150\n",
    "Food\n",
    "600\n",
    "Clothing\n",
    "200\n",
    "Car payment\n",
    "500\n",
    "Misc\n",
    "300\n",
    "import matplotlib.pyplot as plt\n",
    "\n",
    "# Get expense data from the file\n",
    "with open(\"expenses.txt\") as file:\n",
    "    lines = file.read().splitlines()\n",
    "\n",
    "# Separate categories and amount\n",
    "categories = lines[::2]\n",
    "amounts = list(map(float, lines[1::2]))\n",
    "\n",
    "# Now gotta create a pie chart\n",
    "plt.pie(amounts, labels=categories, autopct='%1.1f%%')\n",
    "\n",
    "# Title name\n",
    "plt.title(\"Monthly Expenses\")\n",
    "\n",
    "# Add in Pie chart\n",
    "plt.show()"
   ]
  },
  {
   "cell_type": "markdown",
   "id": "17db84b7",
   "metadata": {},
   "source": [
    "First had to create a expense list. Then I incoorperaed the other part of the problem but I'm a little confused what went wrong here."
   ]
  },
  {
   "cell_type": "markdown",
   "id": "28db6d11",
   "metadata": {},
   "source": [
    "## Problem 6 (Programming Exercises)"
   ]
  },
  {
   "cell_type": "code",
   "execution_count": 12,
   "id": "75556ea2",
   "metadata": {},
   "outputs": [
    {
     "name": "stdout",
     "output_type": "stream",
     "text": [
      "20\n",
      "25\n"
     ]
    }
   ],
   "source": [
    "def display_greater_numbers(numbers, n):\n",
    "# Iterate each number in the list\n",
    "    for num in numbers:\n",
    "# Check if the number is greater than n\n",
    "        if num > n:\n",
    "#print the number \n",
    "            print(num)\n",
    "my_list = [10, 20, 3, 5, 25, 5]\n",
    "number = 10\n",
    "display_greater_numbers(my_list, number)\n"
   ]
  },
  {
   "cell_type": "markdown",
   "id": "1f40d465",
   "metadata": {},
   "source": [
    "the display greater numbers is the biggest key in this code because it will display the numbbers greater than 10 only. The hastags gave me a step by step on what I had to do."
   ]
  },
  {
   "cell_type": "markdown",
   "id": "5848dfac",
   "metadata": {},
   "source": [
    "## Problem 3 (Programming Exercises)"
   ]
  },
  {
   "cell_type": "code",
   "execution_count": 14,
   "id": "5a58f1c1",
   "metadata": {},
   "outputs": [
    {
     "name": "stdout",
     "output_type": "stream",
     "text": [
      "Enter the total rainfall for month 1: 101\n",
      "Enter the total rainfall for month 2: 98\n",
      "Enter the total rainfall for month 3: 112\n",
      "Enter the total rainfall for month 4: 150\n",
      "Enter the total rainfall for month 5: 240\n",
      "Enter the total rainfall for month 6: 245\n",
      "Enter the total rainfall for month 7: 198\n",
      "Enter the total rainfall for month 8: 178\n",
      "Enter the total rainfall for month 9: 250\n",
      "Enter the total rainfall for month 10: 230\n",
      "Enter the total rainfall for month 11: 110\n",
      "Enter the total rainfall for month 12: 97\n",
      "Total rainfall for the year: 2009.0 units\n",
      "Average monthly rainfall: 167.41666666666666 units\n",
      "Month with the highest rainfall: 9\n",
      "Month with the lowest rainfall: 12\n"
     ]
    }
   ],
   "source": [
    "# Initialize empty list to store rainfall data for each month\n",
    "rainfall_data = []\n",
    "# Enter the total of rainfall for each month\n",
    "for month in range(1, 13):\n",
    "    rainfall = float(input(f\"Enter the total rainfall for month {month}: \"))\n",
    "    rainfall_data.append(rainfall)\n",
    "# Calculate total rainfall for the year\n",
    "total_rainfall = sum(rainfall_data)\n",
    "# Calculate rainfall for each month\n",
    "average_rainfall = total_rainfall / len(rainfall_data)\n",
    "# Find the month with the highest a lowest amount\n",
    "highest_month = max(range(len(rainfall_data)), key=rainfall_data.__getitem__)\n",
    "lowest_month = min(range(len(rainfall_data)), key=rainfall_data.__getitem__)\n",
    "# Print the results\n",
    "print(f\"Total rainfall for the year: {total_rainfall} units\")\n",
    "print(f\"Average monthly rainfall: {average_rainfall} units\")\n",
    "print(f\"Month with the highest rainfall: {highest_month+1}\")\n",
    "print(f\"Month with the lowest rainfall: {lowest_month+1}\")"
   ]
  },
  {
   "cell_type": "markdown",
   "id": "6b1725a8",
   "metadata": {},
   "source": [
    "The rainfall data is initialized to store the rainfall data for each month. We had to get all the 12 months to calculate the rainfall for each month. We had to detremine the highest and lowest amounts."
   ]
  }
 ],
 "metadata": {
  "kernelspec": {
   "display_name": "Python 3 (ipykernel)",
   "language": "python",
   "name": "python3"
  },
  "language_info": {
   "codemirror_mode": {
    "name": "ipython",
    "version": 3
   },
   "file_extension": ".py",
   "mimetype": "text/x-python",
   "name": "python",
   "nbconvert_exporter": "python",
   "pygments_lexer": "ipython3",
   "version": "3.10.9"
  }
 },
 "nbformat": 4,
 "nbformat_minor": 5
}
