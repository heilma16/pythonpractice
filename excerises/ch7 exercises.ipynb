{
 "cells": [
  {
   "cell_type": "markdown",
   "id": "8b1efe86",
   "metadata": {},
   "source": [
    "# Chapter 7 Exercises\n",
    "## Problem 2 (Algorithim Workbench)"
   ]
  },
  {
   "cell_type": "code",
   "execution_count": 1,
   "id": "4ece923e",
   "metadata": {},
   "outputs": [
    {
     "name": "stdout",
     "output_type": "stream",
     "text": [
      "['Seaton']\n",
      "['Joey']\n",
      "['Steve']\n",
      "['Tyler']\n"
     ]
    }
   ],
   "source": [
    "names = ['Seaton', 'Joey' , 'Steve' , 'Tyler']\n",
    "\n",
    "for name in names:\n",
    "    print([name])"
   ]
  },
  {
   "cell_type": "markdown",
   "id": "9079c2f1",
   "metadata": {},
   "source": [
    "For this problem all I did was just use a for loop aand named it names. The print name statement made sure to print out the names on a seperate list by using the bracktes."
   ]
  },
  {
   "cell_type": "markdown",
   "id": "3fde3b76",
   "metadata": {},
   "source": [
    "## Problem 1 (Algortihim Workbench)"
   ]
  },
  {
   "cell_type": "code",
   "execution_count": 5,
   "id": "ceef5a7d",
   "metadata": {},
   "outputs": [],
   "source": [
    "my_list = ['Einstein', 'Newton', 'Copernicus', 'Kepler']"
   ]
  },
  {
   "cell_type": "markdown",
   "id": "2e4e2598",
   "metadata": {},
   "source": [
    "Im not sure if this one is completley right but for this statment all I did was use square brackets to define my list."
   ]
  },
  {
   "cell_type": "markdown",
   "id": "fde1ca6a",
   "metadata": {},
   "source": [
    "## P"
   ]
  }
 ],
 "metadata": {
  "kernelspec": {
   "display_name": "Python 3 (ipykernel)",
   "language": "python",
   "name": "python3"
  },
  "language_info": {
   "codemirror_mode": {
    "name": "ipython",
    "version": 3
   },
   "file_extension": ".py",
   "mimetype": "text/x-python",
   "name": "python",
   "nbconvert_exporter": "python",
   "pygments_lexer": "ipython3",
   "version": "3.10.9"
  }
 },
 "nbformat": 4,
 "nbformat_minor": 5
}
