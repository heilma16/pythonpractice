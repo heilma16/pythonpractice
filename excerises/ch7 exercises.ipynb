{
 "cells": [
  {
   "cell_type": "markdown",
   "id": "db736d02",
   "metadata": {},
   "source": [
    "# Chapter 7 Exercises\n",
    "## Problem 2 (Algorithim Workbench)"
   ]
  },
  {
   "cell_type": "code",
   "execution_count": 1,
   "id": "8f5b331f",
   "metadata": {},
   "outputs": [
    {
     "name": "stdout",
     "output_type": "stream",
     "text": [
      "['Seaton']\n",
      "['Joey']\n",
      "['Steve']\n",
      "['Tyler']\n"
     ]
    }
   ],
   "source": [
    "names = ['Seaton', 'Joey' , 'Steve' , 'Tyler']\n",
    "\n",
    "for name in names:\n",
    "    print([name])"
   ]
  },
  {
   "cell_type": "markdown",
   "id": "ef7ddaac",
   "metadata": {},
   "source": [
    "For this problem all I did was just use a for loop aand named it names. The print name statement made sure to print out the names on a seperate list by using the bracktes."
   ]
  }
 ],
 "metadata": {
  "kernelspec": {
   "display_name": "Python 3 (ipykernel)",
   "language": "python",
   "name": "python3"
  },
  "language_info": {
   "codemirror_mode": {
    "name": "ipython",
    "version": 3
   },
   "file_extension": ".py",
   "mimetype": "text/x-python",
   "name": "python",
   "nbconvert_exporter": "python",
   "pygments_lexer": "ipython3",
   "version": "3.10.9"
  }
 },
 "nbformat": 4,
 "nbformat_minor": 5
}
