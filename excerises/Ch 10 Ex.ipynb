{
 "cells": [
  {
   "cell_type": "markdown",
   "id": "62bc90b0",
   "metadata": {},
   "source": [
    "# Chapter 10 EX\n",
    "## Problem 3"
   ]
  },
  {
   "cell_type": "markdown",
   "id": "aa23d632",
   "metadata": {},
   "source": [
    "Design a class that holds the following personal data: name, address, age, and phone number. Write appropriate accessor and mutator methods. Also, write a program that creates three instances of the class. One instance should hold your information, and the other two should hold your friends’ or family members’ information."
   ]
  },
  {
   "cell_type": "code",
   "execution_count": 1,
   "id": "950448a1",
   "metadata": {},
   "outputs": [
    {
     "ename": "IndentationError",
     "evalue": "unexpected indent (1699662719.py, line 7)",
     "output_type": "error",
     "traceback": [
      "\u001b[1;36m  Cell \u001b[1;32mIn[1], line 7\u001b[1;36m\u001b[0m\n\u001b[1;33m    def get_name(self):\u001b[0m\n\u001b[1;37m    ^\u001b[0m\n\u001b[1;31mIndentationError\u001b[0m\u001b[1;31m:\u001b[0m unexpected indent\n"
     ]
    }
   ],
   "source": [
    "class PersonalData:\n",
    "    def __init__(self, name, address, age, phone_number):\n",
    "        self._name = name\n",
    "        self._address = address\n",
    "        self._age = age\n",
    "        self._phone_number = phone_number\n",
    "         def get_name(self):\n",
    "        return self._name\n",
    "# Get all the info\n",
    "    def get_address(self):\n",
    "        return self._address\n",
    "\n",
    "    def get_age(self):\n",
    "        return self._age\n",
    "\n",
    "    def get_phone_number(self):\n",
    "        return self._phone_number def set_name(self, name):\n",
    "        self._name = name\n",
    "#Set all the info\n",
    "    def set_address(self, address):\n",
    "        self._address = address\n",
    "\n",
    "    def set_age(self, age):\n",
    "        self._age = age\n",
    "\n",
    "    def set_phone_number(self, phone_number):\n",
    "        self._phone_number = phone_number\n",
    "if __name__ == \"__main__\":\n",
    "    your_info = PersonalData(\"Seaton\", \"3445 circle st\", 25, \"5864958502\")\n",
    "    friend1_info = PersonalData(\"Steve\", \"1234 ST\", 30, \"5867178333\")\n",
    "    friend2_info = PersonalData(\"Tom\", \"2343 glacier st\", 27, \"2489438234\")\n",
    "     print(\"Your Information:\")\n",
    "    print(\"Name:\", your_info.get_name())\n",
    "    print(\"Address:\", your_info.get_address())\n",
    "    print(\"Age:\", your_info.get_age())\n",
    "    print(\"Phone Number:\", your_info.get_phone_number())\n",
    "    print()\n",
    "\n",
    "    print(\"Friend 1 Information:\")\n",
    "    print(\"Name:\", friend1_info.get_name())\n",
    "    print(\"Address:\", friend1_info.get_address())\n",
    "    print(\"Age:\", friend1_info.get_age())\n",
    "    print(\"Phone Number:\", friend1_info.get_phone_number())\n",
    "    print()\n",
    "\n",
    "    print(\"Friend 2 Information:\")\n",
    "    print(\"Name:\", friend2_info.get_name())\n",
    "    print(\"Address:\", friend2_info.get_address())\n",
    "    print(\"Age:\", friend2_info.get_age())\n",
    "    print(\"Phone Number:\", friend2_info.get_phone_number())\n"
   ]
  }
 ],
 "metadata": {
  "kernelspec": {
   "display_name": "Python 3 (ipykernel)",
   "language": "python",
   "name": "python3"
  },
  "language_info": {
   "codemirror_mode": {
    "name": "ipython",
    "version": 3
   },
   "file_extension": ".py",
   "mimetype": "text/x-python",
   "name": "python",
   "nbconvert_exporter": "python",
   "pygments_lexer": "ipython3",
   "version": "3.10.9"
  }
 },
 "nbformat": 4,
 "nbformat_minor": 5
}
