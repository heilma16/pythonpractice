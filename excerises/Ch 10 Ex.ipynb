{
 "cells": [
  {
   "cell_type": "markdown",
   "id": "c2d9cbd0",
   "metadata": {},
   "source": [
    "# Chapter 10 EX\n",
    "## Problem 3"
   ]
  },
  {
   "cell_type": "markdown",
   "id": "1c62d2ea",
   "metadata": {},
   "source": [
    "Design a class that holds the following personal data: name, address, age, and phone number. Write appropriate accessor and mutator methods. Also, write a program that creates three instances of the class. One instance should hold your information, and the other two should hold your friends’ or family members’ information."
   ]
  },
  {
   "cell_type": "code",
   "execution_count": null,
   "id": "0ad84686",
   "metadata": {},
   "outputs": [],
   "source": [
    "class PersonalData:\n",
    "    def __init__(self, name, address, age, phone_number):\n",
    "        self._name = name\n",
    "        self._address = address\n",
    "        self._age = age\n",
    "        self._phone_number = phone_number"
   ]
  }
 ],
 "metadata": {
  "kernelspec": {
   "display_name": "Python 3 (ipykernel)",
   "language": "python",
   "name": "python3"
  },
  "language_info": {
   "codemirror_mode": {
    "name": "ipython",
    "version": 3
   },
   "file_extension": ".py",
   "mimetype": "text/x-python",
   "name": "python",
   "nbconvert_exporter": "python",
   "pygments_lexer": "ipython3",
   "version": "3.10.9"
  }
 },
 "nbformat": 4,
 "nbformat_minor": 5
}
