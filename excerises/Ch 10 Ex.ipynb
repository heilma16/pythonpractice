{
 "cells": [
  {
   "cell_type": "markdown",
   "id": "64a53694",
   "metadata": {},
   "source": [
    "# Chapter 10 EX\n",
    "## Problem 3"
   ]
  },
  {
   "cell_type": "markdown",
   "id": "436a907d",
   "metadata": {},
   "source": [
    "Design a class that holds the following personal data: name, address, age, and phone number. Write appropriate accessor and mutator methods. Also, write a program that creates three instances of the class. One instance should hold your information, and the other two should hold your friends’ or family members’ information."
   ]
  },
  {
   "cell_type": "code",
   "execution_count": 4,
   "id": "75c67fb3",
   "metadata": {},
   "outputs": [
    {
     "name": "stdout",
     "output_type": "stream",
     "text": [
      "Your Information:\n",
      "Name: Seaton\n",
      "Address: 3445 circle st\n",
      "Age: 25\n"
     ]
    },
    {
     "ename": "NameError",
     "evalue": "name 'name' is not defined",
     "output_type": "error",
     "traceback": [
      "\u001b[1;31m---------------------------------------------------------------------------\u001b[0m",
      "\u001b[1;31mNameError\u001b[0m                                 Traceback (most recent call last)",
      "Cell \u001b[1;32mIn[4], line 36\u001b[0m\n\u001b[0;32m     34\u001b[0m \u001b[38;5;28mprint\u001b[39m(\u001b[38;5;124m\"\u001b[39m\u001b[38;5;124mAddress:\u001b[39m\u001b[38;5;124m\"\u001b[39m, your_info\u001b[38;5;241m.\u001b[39mget_address())\n\u001b[0;32m     35\u001b[0m \u001b[38;5;28mprint\u001b[39m(\u001b[38;5;124m\"\u001b[39m\u001b[38;5;124mAge:\u001b[39m\u001b[38;5;124m\"\u001b[39m, your_info\u001b[38;5;241m.\u001b[39mget_age())\n\u001b[1;32m---> 36\u001b[0m \u001b[38;5;28mprint\u001b[39m(\u001b[38;5;124m\"\u001b[39m\u001b[38;5;124mPhone Number:\u001b[39m\u001b[38;5;124m\"\u001b[39m, \u001b[43myour_info\u001b[49m\u001b[38;5;241;43m.\u001b[39;49m\u001b[43mget_phone_number\u001b[49m\u001b[43m(\u001b[49m\u001b[43m)\u001b[49m)\n\u001b[0;32m     37\u001b[0m \u001b[38;5;28mprint\u001b[39m()\n\u001b[0;32m     39\u001b[0m \u001b[38;5;28mprint\u001b[39m(\u001b[38;5;124m\"\u001b[39m\u001b[38;5;124mFriend 1 Information:\u001b[39m\u001b[38;5;124m\"\u001b[39m)\n",
      "Cell \u001b[1;32mIn[4], line 18\u001b[0m, in \u001b[0;36mPersonalData.get_phone_number\u001b[1;34m(self)\u001b[0m\n\u001b[0;32m     16\u001b[0m \u001b[38;5;28;01mdef\u001b[39;00m \u001b[38;5;21mget_phone_number\u001b[39m(\u001b[38;5;28mself\u001b[39m):\n\u001b[1;32m---> 18\u001b[0m     \u001b[38;5;28mself\u001b[39m\u001b[38;5;241m.\u001b[39m_name \u001b[38;5;241m=\u001b[39m \u001b[43mname\u001b[49m\n",
      "\u001b[1;31mNameError\u001b[0m: name 'name' is not defined"
     ]
    }
   ],
   "source": [
    "class PersonalData:\n",
    "    def __init__(self, name, address, age, phone_number):\n",
    "        self._name = name\n",
    "        self._address = address\n",
    "        self._age = age\n",
    "        self._phone_number = phone_number\n",
    "    def get_name(self):\n",
    "        return self._name\n",
    "# Get all the info\n",
    "    def get_address(self):\n",
    "        return self._address\n",
    "\n",
    "    def get_age(self):\n",
    "        return self._age\n",
    "\n",
    "    def get_phone_number(self):\n",
    "\n",
    "        self._name = name\n",
    "#Set all the info\n",
    "    def set_address(self, address):\n",
    "        self._address = address\n",
    "\n",
    "    def set_age(self, age):\n",
    "        self._age = age\n",
    "\n",
    "    def set_phone_number(self, phone_number):\n",
    "        self._phone_number = phone_number\n",
    "if __name__ == \"__main__\":\n",
    "    your_info = PersonalData(\"Seaton\", \"3445 circle st\", 25, \"5864958502\")\n",
    "    friend1_info = PersonalData(\"Steve\", \"1234 ST\", 30, \"5867178333\")\n",
    "    friend2_info = PersonalData(\"Tom\", \"2343 glacier st\", 27, \"2489438234\")\n",
    "    print(\"Your Information:\")\n",
    "    print(\"Name:\", your_info.get_name())\n",
    "    print(\"Address:\", your_info.get_address())\n",
    "    print(\"Age:\", your_info.get_age())\n",
    "    print(\"Phone Number:\", your_info.get_phone_number())\n",
    "    print()\n",
    "\n",
    "    print(\"Friend 1 Information:\")\n",
    "    print(\"Name:\", friend1_info.get_name())\n",
    "    print(\"Address:\", friend1_info.get_address())\n",
    "    print(\"Age:\", friend1_info.get_age())\n",
    "    print(\"Phone Number:\", friend1_info.get_phone_number())\n",
    "    print()\n",
    "\n",
    "    print(\"Friend 2 Information:\")\n",
    "    print(\"Name:\", friend2_info.get_name())\n",
    "    print(\"Address:\", friend2_info.get_address())\n",
    "    print(\"Age:\", friend2_info.get_age())\n",
    "    print(\"Phone Number:\", friend2_info.get_phone_number())\n"
   ]
  },
  {
   "cell_type": "markdown",
   "id": "14271a6f",
   "metadata": {},
   "source": [
    "# Problem 6"
   ]
  },
  {
   "cell_type": "code",
   "execution_count": null,
   "id": "906831a4",
   "metadata": {},
   "outputs": [],
   "source": []
  }
 ],
 "metadata": {
  "kernelspec": {
   "display_name": "Python 3 (ipykernel)",
   "language": "python",
   "name": "python3"
  },
  "language_info": {
   "codemirror_mode": {
    "name": "ipython",
    "version": 3
   },
   "file_extension": ".py",
   "mimetype": "text/x-python",
   "name": "python",
   "nbconvert_exporter": "python",
   "pygments_lexer": "ipython3",
   "version": "3.10.9"
  }
 },
 "nbformat": 4,
 "nbformat_minor": 5
}
