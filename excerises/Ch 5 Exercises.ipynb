{
 "cells": [
  {
   "cell_type": "markdown",
   "id": "92920807",
   "metadata": {},
   "source": [
    "# Chapter 5 Exercises"
   ]
  },
  {
   "cell_type": "markdown",
   "id": "5eb88751",
   "metadata": {},
   "source": [
    "## Problem 1"
   ]
  },
  {
   "cell_type": "markdown",
   "id": "93fb3974",
   "metadata": {},
   "source": [
    "Write a function named times_ten. The function should accept an argument and display the product of its argument multiplied times 10."
   ]
  },
  {
   "cell_type": "code",
   "execution_count": 7,
   "id": "39c91bab",
   "metadata": {},
   "outputs": [
    {
     "name": "stdout",
     "output_type": "stream",
     "text": [
      "The product of 4 multiplied by 10 is: 40\n"
     ]
    }
   ],
   "source": [
    "# First start of by naming the function (times_ten)\n",
    "def times_ten(number):\n",
    "#Now we have to muliply the number by 10\n",
    "    result = number * 10\n",
    "    print('The product of', number, 'multiplied by 10 is:', result)\n",
    "times_ten(4)"
   ]
  },
  {
   "cell_type": "markdown",
   "id": "e952787f",
   "metadata": {},
   "source": [
    "For this problem the times_ten function is defined as the word number. The number is multiplied by 10 and it is the result variable. As you change the number in the last line it will change the result."
   ]
  },
  {
   "cell_type": "markdown",
   "id": "e1ac7c1a",
   "metadata": {},
   "source": [
    "## Problem 6"
   ]
  },
  {
   "cell_type": "markdown",
   "id": "2311945a",
   "metadata": {},
   "source": [
    "Write a statement that generates a random number in the range of 1 through 100 and\n",
    "assigns it to a variable named rand."
   ]
  },
  {
   "cell_type": "code",
   "execution_count": 13,
   "id": "143d64d2",
   "metadata": {},
   "outputs": [],
   "source": [
    "# First start of by doing import random\n",
    "import random\n",
    "\n",
    "rand = random.randint(1,100)\n"
   ]
  },
  {
   "cell_type": "markdown",
   "id": "8373b8b8",
   "metadata": {},
   "source": [
    "The code should now hold a random number between 1 and 100 after executing the variable rand."
   ]
  },
  {
   "cell_type": "markdown",
   "id": "ab88e67a",
   "metadata": {},
   "source": [
    "## Problem 1 (Programming Ex)"
   ]
  },
  {
   "cell_type": "markdown",
   "id": "34ea8313",
   "metadata": {},
   "source": [
    "Write a program that asks the user to enter a distance in kilometers, then converts that distance to miles. The conversion formula is as follows:"
   ]
  },
  {
   "cell_type": "code",
   "execution_count": 14,
   "id": "d172cc57",
   "metadata": {},
   "outputs": [
    {
     "name": "stdout",
     "output_type": "stream",
     "text": [
      "Enter the distance in kilometers: 10\n",
      "The distance in miles is: 6.2139999999999995 miles\n"
     ]
    }
   ],
   "source": [
    "# Start of by writing a program that asks the user to enter the distance in kilometers\n",
    "kilometers = float(input('Enter the distance in kilometers: '))\n",
    "# Now put in the formula\n",
    "miles = kilometers * 0.6214\n",
    "# Now use the print function with the f string to display the miles variable\n",
    "print(f'The distance in miles is: {miles} miles')"
   ]
  },
  {
   "cell_type": "markdown",
   "id": "392c8d4c",
   "metadata": {},
   "source": [
    "For this problem what I did was just write programs for what the question prompted me to do by entering the distance in kilometers using the input function. Then I used the formula in the code. Lastly I printed the converted distance in milwa and used the f string to display the miles variable."
   ]
  },
  {
   "cell_type": "markdown",
   "id": "744dc10f",
   "metadata": {},
   "source": [
    "## Problem 17 (Prime Numbers)"
   ]
  },
  {
   "cell_type": "markdown",
   "id": "9e3d71e8",
   "metadata": {},
   "source": [
    "A prime number is a number that is only evenly divisible by itself and 1. For example, the number 5 is prime because it can only be evenly divided by 1 and 5. The number 6, however, is not prime because it can be divided evenly by 1, 2, 3, and 6.Write a Boolean function named is_prime which takes an integer as an argument and returns true if the argument is a prime number, or false otherwise. Use the function in a program that prompts the user to enter a number then displays a message indicating whether the number is prime."
   ]
  },
  {
   "cell_type": "code",
   "execution_count": null,
   "id": "9a1deb80",
   "metadata": {},
   "outputs": [],
   "source": [
    "# First start off by defining the is_prime function\n",
    "def is_prime"
   ]
  }
 ],
 "metadata": {
  "kernelspec": {
   "display_name": "Python 3 (ipykernel)",
   "language": "python",
   "name": "python3"
  },
  "language_info": {
   "codemirror_mode": {
    "name": "ipython",
    "version": 3
   },
   "file_extension": ".py",
   "mimetype": "text/x-python",
   "name": "python",
   "nbconvert_exporter": "python",
   "pygments_lexer": "ipython3",
   "version": "3.10.9"
  }
 },
 "nbformat": 4,
 "nbformat_minor": 5
}
